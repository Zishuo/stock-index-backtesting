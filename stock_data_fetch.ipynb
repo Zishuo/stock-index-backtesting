{
 "cells": [
  {
   "cell_type": "code",
   "execution_count": null,
   "metadata": {},
   "outputs": [],
   "source": [
    "import pandas as pd\n",
    "import yfinance as yf\n",
    "import os\n",
    "import time\n",
    "\n",
    "def fetch_stock_data_to_csv(ticker_list_file:str, ticker_output_path:str, ticker_err_list_file:str, max_ticker_retreival:int=100000):\n",
    "    ticker_list = pd.read_csv(ticker_list_file)\n",
    "    #create the output directory if it does not exist\n",
    "    if not os.path.exists(ticker_output_path):\n",
    "        os.mkdir(ticker_output_path)\n",
    "    #create the error list file if it does not exist\n",
    "    if not os.path.exists(ticker_err_list_file):\n",
    "        ticker_err_list = pd.DataFrame(columns=['Symbol','Error'])\n",
    "        ticker_err_list.to_csv(ticker_err_list_file)\n",
    "    else:\n",
    "        ticker_err_list = pd.read_csv(ticker_err_list_file)\n",
    "    downloaded = 0\n",
    "    err_cnt = 0\n",
    "    suc = 0\n",
    "    #iterate through the list of tickers and download the data, limit the number of tickers to download to 100000\n",
    "    for row in ticker_list.iterrows():\n",
    "        if suc >= max_ticker_retreival:\n",
    "            print('Reached max ticker retreival {}/{}'.format(suc,max_ticker_retreival))\n",
    "            break\n",
    "        #check if we already downlaoded the data,if not then download it\n",
    "        if os.path.exists('{}/{}.csv'.format(ticker_output_path,row[1]['Symbol'])):\n",
    "            downloaded += 1\n",
    "            print('Already {}/{} downloaded {}/{}'.format(suc,max_ticker_retreival,ticker_output_path,row[1]['Symbol']))\n",
    "            continue\n",
    "        elif ticker_err_list[ticker_err_list['Symbol']==row[1]['Symbol']].empty == False:\n",
    "            print('Already {}/{} error      {}/{}'.format(suc,max_ticker_retreival,ticker_output_path,row[1]['Symbol']))\n",
    "        else:   \n",
    "            time.sleep(1)    \n",
    "            try:\n",
    "                #measure time to download data\n",
    "                start = time.time()\n",
    "                data = yf.download(row[1]['Symbol'])\n",
    "                end = time.time()\n",
    "                \n",
    "            except:\n",
    "                #use pd.concat to append to the dataframe\n",
    "                ticker_err_list = pd.concat([ticker_err_list,pd.DataFrame({'Symbol':[row[1]['Symbol']],'Error':['Error downloading data']})],ignore_index=True)\n",
    "                print('Error downloading data for {}'.format(row[1]['Symbol']))\n",
    "                err_cnt += 1\n",
    "                continue\n",
    "            if(data.empty):\n",
    "                #use pd.concat to append to the dataframe\n",
    "                ticker_err_list = pd.concat([ticker_err_list,pd.DataFrame({'Symbol':[row[1]['Symbol']],'Error':['No data']})],ignore_index=True)\n",
    "                err_cnt += 1\n",
    "                print('No data for {}'.format(row[1]['Symbol']))\n",
    "                continue\n",
    "            data.to_csv('{}/{}.csv'.format(ticker_output_path,row[1]['Symbol']))\n",
    "            suc += 1\n",
    "            print('Downloaded {}: '.format(row[1]['Symbol'],end-start,data.size))\n",
    "            #sleep for 1 second to avoid getting blocked by yahoo finance\n",
    "            \n",
    "    print('Downloaded {} checked {} errors {}'.format(suc,downloaded,err_cnt))\n",
    "    ticker_err_list.to_csv(ticker_err_list_file)\n"
   ]
  },
  {
   "cell_type": "code",
   "execution_count": null,
   "metadata": {},
   "outputs": [],
   "source": [
    "#download the data for AMEX\n",
    "fetch_stock_data_to_csv('data/AMEX/AMEX-TICKER-LIST-20230306.csv','data/AMEX/','data/AMEX/AMEX-TICKER-ERR-LIST-20230306.csv',100000)"
   ]
  },
  {
   "cell_type": "code",
   "execution_count": null,
   "metadata": {},
   "outputs": [],
   "source": [
    "#download the data for NASDAQ\n",
    "fetch_stock_data_to_csv('data/NASDAQ/NASDAQ-TICKER-LIST-20230306.csv','data/NASDAQ', 'data/NASDAQ/NASDAQ-TICKER-ERR-LIST-20230306.csv')"
   ]
  },
  {
   "cell_type": "code",
   "execution_count": null,
   "metadata": {},
   "outputs": [],
   "source": [
    "#download the data for NYSE\n",
    "ticker_list_file = 'data/NYSE/NYSE-TICKER-LIST-20230307.csv'\n",
    "ticker_output_path = 'data/NYSE'\n",
    "ticker_err_list_file = 'data/NYSE/NYSE-TICKER-ERR-LIST-20230307.csv'\n",
    "\n",
    "fetch_stock_data_to_csv(ticker_list_file, ticker_output_path, ticker_err_list_file, 100)"
   ]
  }
 ],
 "metadata": {
  "kernelspec": {
   "display_name": "Python 3",
   "language": "python",
   "name": "python3"
  },
  "language_info": {
   "codemirror_mode": {
    "name": "ipython",
    "version": 3
   },
   "file_extension": ".py",
   "mimetype": "text/x-python",
   "name": "python",
   "nbconvert_exporter": "python",
   "pygments_lexer": "ipython3",
   "version": "3.10.10"
  },
  "orig_nbformat": 4
 },
 "nbformat": 4,
 "nbformat_minor": 2
}
