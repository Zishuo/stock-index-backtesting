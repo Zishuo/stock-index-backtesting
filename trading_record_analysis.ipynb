{
 "cells": [
  {
   "cell_type": "code",
   "execution_count": 1,
   "metadata": {},
   "outputs": [
    {
     "name": "stdout",
     "output_type": "stream",
     "text": [
      "[*********************100%***********************]  1 of 1 completed\n",
      "[*********************100%***********************]  1 of 1 completed\n",
      "[*********************100%***********************]  1 of 1 completed\n",
      "[*********************100%***********************]  1 of 1 completed\n"
     ]
    }
   ],
   "source": [
    "import Ab as ab\n",
    "import datetime as dt\n",
    "import pandas as pd\n",
    "sd = dt.datetime(2002,1,1)\n",
    "ed = dt.datetime(2023,3,14)\n",
    "# 1x leveraged nasdaq 100 etf\n",
    "qqq = ab.StockData('QQQ')\n",
    "qqq.get_data_from_yfinance('QQQ',sd,ed+dt.timedelta(days=1))\n",
    "\n",
    "qld = ab.StockData('QLD')\n",
    "qld.get_data_from_yfinance('QLD',sd,ed+dt.timedelta(days=1))\n",
    "\n",
    "tqqq = ab.StockData('TQQQ')\n",
    "tqqq.get_data_from_yfinance('TQQQ',sd,ed+dt.timedelta(days=1))\n",
    "\n",
    "spy = ab.StockData('SPY')\n",
    "spy.get_data_from_yfinance('SPY',sd,ed+dt.timedelta(days=1))\n",
    "\n",
    "ticker = qqq\n",
    "\n",
    "naa200r = ab.StockData('NAA200R')\n",
    "naa200r.get_data_from_csv('data/NAA200R.csv')\n",
    "naa200r.data.sort_index(inplace=True)\n",
    "\n",
    "\n",
    "naa200r = ab.StockData('NAA200R')\n",
    "naa200r.get_data_from_csv('data/NAA200R.csv')\n",
    "naa200r.data.sort_index(inplace=True)\n",
    "\n",
    "\n",
    "ndxa200r = ab.StockData('NDXA200R')\n",
    "ndxa200r.get_data_from_csv('data/NDXA200R.csv')\n",
    "\n",
    "\n",
    "spxa200r = ab.StockData('SPXA200R')\n",
    "spxa200r.get_data_from_csv('data/SPXA200R.csv')\n",
    "indicator = naa200r\n",
    "\n"
   ]
  },
  {
   "cell_type": "code",
   "execution_count": 2,
   "metadata": {},
   "outputs": [
    {
     "name": "stdout",
     "output_type": "stream",
     "text": [
      "\n",
      "Performance Summary of <Ab.StockData object at 0x00000194678D1840>: \n",
      "cumulative return      : 641.39%,\n",
      "compound anual return  : 6.1784% \n",
      "max_drawdown           : -51.86%, \n",
      "sharp_ratio            : 3.30%, \n",
      "average of daily return: 0.0482%, \n",
      "std of daily return    : 1.4605%,\n",
      "number of trades       : 2,\n",
      "trading days           : 7742,\n",
      "        \n",
      "Betting Average  : 100.00%\n",
      "Gain Average     : 641.39%\n",
      "Loss Average     : nan%\n",
      "Risk Reward Ratio: nan\n",
      "Gain STD         : nan%\n",
      "Loss STD         : nan%\n"
     ]
    },
    {
     "data": {
      "text/html": [
       "<div>\n",
       "<style scoped>\n",
       "    .dataframe tbody tr th:only-of-type {\n",
       "        vertical-align: middle;\n",
       "    }\n",
       "\n",
       "    .dataframe tbody tr th {\n",
       "        vertical-align: top;\n",
       "    }\n",
       "\n",
       "    .dataframe thead th {\n",
       "        text-align: right;\n",
       "    }\n",
       "</style>\n",
       "<table border=\"1\" class=\"dataframe\">\n",
       "  <thead>\n",
       "    <tr style=\"text-align: right;\">\n",
       "      <th></th>\n",
       "      <th>Buy Date</th>\n",
       "      <th>Sell Date</th>\n",
       "      <th>Ticker</th>\n",
       "      <th>Quant</th>\n",
       "      <th>Buy Price</th>\n",
       "      <th>Sell Price</th>\n",
       "      <th>Profit</th>\n",
       "      <th>Profit %</th>\n",
       "    </tr>\n",
       "  </thead>\n",
       "  <tbody>\n",
       "    <tr>\n",
       "      <th>0</th>\n",
       "      <td>2002-01-02</td>\n",
       "      <td>2023-03-14 00:00:00</td>\n",
       "      <td>QQQ</td>\n",
       "      <td>0.024931</td>\n",
       "      <td>40.110001</td>\n",
       "      <td>297.369995</td>\n",
       "      <td>0.0</td>\n",
       "      <td>6.413862</td>\n",
       "    </tr>\n",
       "  </tbody>\n",
       "</table>\n",
       "</div>"
      ],
      "text/plain": [
       "    Buy Date            Sell Date Ticker     Quant  Buy Price  Sell Price  \\\n",
       "0 2002-01-02  2023-03-14 00:00:00    QQQ  0.024931  40.110001  297.369995   \n",
       "\n",
       "   Profit  Profit %  \n",
       "0     0.0  6.413862  "
      ]
     },
     "execution_count": 2,
     "metadata": {},
     "output_type": "execute_result"
    }
   ],
   "source": [
    "\n",
    "#buy and hold\n",
    "bah = ab.BuyAndHold(ticker)\n",
    "bah.run_strategy(ticker,sd,ed)\n",
    "bah_bt = ab.BackTest(sd,ed)\n",
    "bah_bt.run_backtest(bah,ticker,False)\n",
    "bah_bt.performance_summary()\n",
    "bah_bt.trade_records\n"
   ]
  },
  {
   "cell_type": "code",
   "execution_count": 3,
   "metadata": {},
   "outputs": [],
   "source": [
    "naa200r_stg = ab.Threshold(signal_data = indicator, indicator = 'SignalPrice', buy_threshold = 15, sell_threshold = 30)\n",
    "naa200r_stg.run_strategy(ticker, sd, ed)\n"
   ]
  },
  {
   "cell_type": "code",
   "execution_count": 4,
   "metadata": {},
   "outputs": [],
   "source": [
    "naa200r_bt_weekly = ab.BackTest(sd,ed)\n",
    "naa200r_bt_weekly.run_backtest(naa200r_stg, ticker, True,True)\n"
   ]
  },
  {
   "cell_type": "code",
   "execution_count": 5,
   "metadata": {},
   "outputs": [
    {
     "name": "stdout",
     "output_type": "stream",
     "text": [
      "\n",
      "Performance Summary of TH 15/30 MA 20: \n",
      "cumulative return      : 797.36%,\n",
      "compound anual return  : 6.9265% \n",
      "max_drawdown           : -38.07%, \n",
      "sharp_ratio            : 4.11%, \n",
      "average of daily return: 0.0480%, \n",
      "std of daily return    : 1.1673%,\n",
      "number of trades       : 33,\n",
      "trading days           : 7742,\n",
      "        \n",
      "Betting Average  : 43.75%\n",
      "Gain Average     : 28.92%\n",
      "Loss Average     : -5.37%\n",
      "Risk Reward Ratio: 5.39\n",
      "Gain STD         : 29.55%\n",
      "Loss STD         : 6.68%\n"
     ]
    },
    {
     "data": {
      "image/png": "[encoded data removed]",
      "text/plain": [
       "<Figure size 640x480 with 1 Axes>"
      ]
     },
     "metadata": {},
     "output_type": "display_data"
    }
   ],
   "source": [
    "import matplotlib.pyplot as plt\n",
    "plt.bar(naa200r_bt_weekly.trade_records.index, naa200r_bt_weekly.trade_records['Profit %'], label = naa200r_bt_weekly.name ,color = 'blue')\n",
    "plt.legend()\n",
    "plt.savefig('data/{}_naa200r_bt_weekly_{}-{}.png'.format(ticker.ticker,ticker.start_date.date(),ticker.end_date.date()))\n",
    "naa200r_bt_weekly.trade_records.to_csv('data/{}_naa200r_bt_weekly_{}-{}.csv'.format(ticker.ticker,ticker.start_date.date(),ticker.end_date.date()))\n",
    "naa200r_bt_weekly.performance_summary()\n",
    "\n",
    "\n"
   ]
  },
  {
   "cell_type": "code",
   "execution_count": 6,
   "metadata": {},
   "outputs": [],
   "source": [
    "naa200r_bt_daily = ab.BackTest(sd,ed)\n",
    "naa200r_bt_daily.run_backtest(naa200r_stg, ticker)\n"
   ]
  },
  {
   "cell_type": "code",
   "execution_count": 7,
   "metadata": {},
   "outputs": [
    {
     "name": "stdout",
     "output_type": "stream",
     "text": [
      "\n",
      "Performance Summary of TH 15/30 MA 20: \n",
      "cumulative return      : 915.96%,\n",
      "compound anual return  : 7.4059% \n",
      "max_drawdown           : -41.33%, \n",
      "sharp_ratio            : 4.45%, \n",
      "average of daily return: 0.0497%, \n",
      "std of daily return    : 1.1185%,\n",
      "number of trades       : 52,\n",
      "trading days           : 7742,\n",
      "        \n",
      "Betting Average  : 39.22%\n",
      "Gain Average     : 21.85%\n",
      "Loss Average     : -3.71%\n",
      "Risk Reward Ratio: 5.89\n",
      "Gain STD         : 27.74%\n",
      "Loss STD         : 4.58%\n"
     ]
    },
    {
     "data": {
      "image/png": "[encoded data removed]",
      "text/plain": [
       "<Figure size 640x480 with 1 Axes>"
      ]
     },
     "metadata": {},
     "output_type": "display_data"
    }
   ],
   "source": [
    "plt.bar(naa200r_bt_daily.trade_records.index, naa200r_bt_daily.trade_records['Profit %'], label = naa200r_bt_daily.name ,color = 'blue')\n",
    "plt.legend()\n",
    "plt.savefig('data/{}_naa200r_bt_daily_{}-{}.png'.format(ticker.ticker,ticker.start_date.date(),ticker.end_date.date()))\n",
    "naa200r_bt_daily.trade_records.to_csv('data/{}_naa200r_bt_daily_{}-{}.csv'.format(ticker.ticker,ticker.start_date.date(),ticker.end_date.date()))\n",
    "naa200r_bt_daily.performance_summary()"
   ]
  }
 ],
 "metadata": {
  "kernelspec": {
   "display_name": "Python 3",
   "language": "python",
   "name": "python3"
  },
  "language_info": {
   "codemirror_mode": {
    "name": "ipython",
    "version": 3
   },
   "file_extension": ".py",
   "mimetype": "text/x-python",
   "name": "python",
   "nbconvert_exporter": "python",
   "pygments_lexer": "ipython3",
   "version": "3.10.10"
  },
  "orig_nbformat": 4
 },
 "nbformat": 4,
 "nbformat_minor": 2
}
