{
 "cells": [
  {
   "cell_type": "code",
   "execution_count": 1,
   "metadata": {},
   "outputs": [
    {
     "name": "stdout",
     "output_type": "stream",
     "text": [
      "[*********************100%***********************]  1 of 1 completed\n",
      "[*********************100%***********************]  1 of 1 completed\n",
      "[*********************100%***********************]  1 of 1 completed\n"
     ]
    }
   ],
   "source": [
    "import Ab as ab\n",
    "import datetime as dt\n",
    "import pandas as pd\n",
    "sd = dt.datetime(2002,1,1)\n",
    "ed = dt.datetime(2023,3,2)\n",
    "# 1x leveraged nasdaq 100 etf\n",
    "qqq = ab.StockData('QQQ')\n",
    "qqq.get_data_from_yfinance('QQQ',sd,ed+dt.timedelta(days=1))\n",
    "\n",
    "qld = ab.StockData('QLD')\n",
    "qld.get_data_from_yfinance('QLD',sd,ed+dt.timedelta(days=1))\n",
    "\n",
    "tqqq = ab.StockData('TQQQ')\n",
    "tqqq.get_data_from_yfinance('TQQQ',sd,ed+dt.timedelta(days=1))\n",
    "\n",
    "ticker = qqq\n",
    "\n",
    "naa200r = ab.StockData('NAA200R')\n",
    "naa200r.get_data_from_csv('data/NAA200R.csv')\n",
    "naa200r.data.sort_index(inplace=True)\n",
    "\n"
   ]
  },
  {
   "cell_type": "code",
   "execution_count": 2,
   "metadata": {},
   "outputs": [
    {
     "ename": "NameError",
     "evalue": "name 'ticker' is not defined",
     "output_type": "error",
     "traceback": [
      "\u001b[1;31m---------------------------------------------------------------------------\u001b[0m",
      "\u001b[1;31mNameError\u001b[0m                                 Traceback (most recent call last)",
      "Cell \u001b[1;32mIn[2], line 2\u001b[0m\n\u001b[0;32m      1\u001b[0m naa200r_stg \u001b[39m=\u001b[39m ab\u001b[39m.\u001b[39mThreshold(signal_data \u001b[39m=\u001b[39m naa200r, indicator \u001b[39m=\u001b[39m \u001b[39m'\u001b[39m\u001b[39mSignalPrice\u001b[39m\u001b[39m'\u001b[39m, buy_threshold \u001b[39m=\u001b[39m \u001b[39m15\u001b[39m, sell_threshold \u001b[39m=\u001b[39m \u001b[39m30\u001b[39m)\n\u001b[1;32m----> 2\u001b[0m naa200r_stg\u001b[39m.\u001b[39mrun_strategy(ticker, sd, ed)\n",
      "\u001b[1;31mNameError\u001b[0m: name 'ticker' is not defined"
     ]
    }
   ],
   "source": [
    "naa200r_stg = ab.Threshold(signal_data = naa200r, indicator = 'SignalPrice', buy_threshold = 15, sell_threshold = 30)\n",
    "naa200r_stg.run_strategy(ticker, sd, ed)\n"
   ]
  },
  {
   "cell_type": "code",
   "execution_count": null,
   "metadata": {},
   "outputs": [],
   "source": [
    "naa200r_bt = ab.BackTest(sd,ed)\n",
    "naa200r_bt.run_backtest(naa200r_stg, ticker)\n"
   ]
  },
  {
   "cell_type": "code",
   "execution_count": null,
   "metadata": {},
   "outputs": [
    {
     "name": "stdout",
     "output_type": "stream",
     "text": [
      "     Buy Date            Sell Date Ticker     Quant  Buy Price  Sell Price  \\\n",
      "0  2010-03-11  2010-08-23 00:00:00   TQQQ  1.825094   0.547917    0.425729   \n",
      "1  2010-09-02  2011-08-04 00:00:00   TQQQ  1.742795   0.445833    0.722708   \n",
      "2  2011-08-29  2011-09-02 00:00:00   TQQQ  1.796124   0.701250    0.650417   \n",
      "3  2011-09-07  2011-09-09 00:00:00   TQQQ  1.670142   0.699479    0.644375   \n",
      "4  2011-09-13  2011-09-20 00:00:00   TQQQ  1.549648   0.694479    0.768125   \n",
      "5  2011-10-10  2011-11-09 00:00:00   TQQQ  1.616051   0.736563    0.758438   \n",
      "6  2011-11-11  2011-11-16 00:00:00   TQQQ  1.536495   0.797708    0.769479   \n",
      "7  2011-11-30  2011-12-14 00:00:00   TQQQ  1.622136   0.728854    0.670417   \n",
      "8  2011-12-15  2011-12-19 00:00:00   TQQQ  1.634839   0.665208    0.654896   \n",
      "9  2011-12-20  2014-10-07 00:00:00   TQQQ  1.501568   0.713021    3.361250   \n",
      "10 2014-10-21  2015-08-24 00:00:00   TQQQ  1.501940   3.360417    3.376250   \n",
      "11 2015-09-08  2015-09-25 00:00:00   TQQQ  1.264570   4.010000    3.785000   \n",
      "12 2015-10-07  2016-01-04 00:00:00   TQQQ  1.179521   4.057917    4.468750   \n",
      "13 2016-02-01  2016-02-02 00:00:00   TQQQ  1.396287   3.775000    3.535417   \n",
      "14 2016-02-16  2018-10-24 00:00:00   TQQQ  1.493633   3.305000   12.230000   \n",
      "15 2018-11-01  2018-11-12 00:00:00   TQQQ  1.340953  13.622500   12.227500   \n",
      "16 2018-11-28  2018-12-04 00:00:00   TQQQ  1.308840  12.527500   11.857500   \n",
      "17 2019-01-04  2020-03-09 00:00:00   TQQQ  1.622114   9.567500   15.307500   \n",
      "18 2020-04-08  2021-11-30 00:00:00   TQQQ  1.823426  13.617500   81.745003   \n",
      "19 2021-12-22  2022-01-05 00:00:00   TQQQ  1.844296  80.820000   74.675003   \n",
      "20 2022-02-08  2022-02-22 00:00:00   TQQQ  2.321692  59.320000   48.880001   \n",
      "21 2022-02-25  2022-03-01 00:00:00   TQQQ  2.186175  51.910000   50.040001   \n",
      "22 2022-03-02  2022-03-04 00:00:00   TQQQ  2.086519  52.430000   48.090000   \n",
      "23 2022-03-16  2022-04-05 00:00:00   TQQQ  2.071443  48.439999   57.480000   \n",
      "24 2022-05-27  2022-06-10 00:00:00   TQQQ  3.576646  33.290001   26.790001   \n",
      "25 2022-07-19  2022-08-26 00:00:00   TQQQ  3.366772  28.459999   30.240000   \n",
      "26 2022-09-12  2022-09-13 00:00:00   TQQQ  3.291665  30.930000   25.840000   \n",
      "27 2022-10-04  2022-10-07 00:00:00   TQQQ  3.766901  22.580000   19.500000   \n",
      "28 2022-10-13  2022-12-15 00:00:00   TQQQ  3.803965  19.309999   19.639999   \n",
      "29 2023-01-04                  NaN   TQQQ  4.351187  17.170000         NaN   \n",
      "\n",
      "        Profit  Profit %  \n",
      "0    -0.223005 -0.223005  \n",
      "1     0.482536  0.621028  \n",
      "2    -0.091302 -0.072489  \n",
      "3    -0.092031 -0.078779  \n",
      "4     0.114125  0.106045  \n",
      "5     0.035351  0.029699  \n",
      "6    -0.043374 -0.035388  \n",
      "7    -0.094793 -0.080177  \n",
      "8    -0.016858 -0.015502  \n",
      "9     3.976495  3.714097  \n",
      "10    0.023780  0.004712  \n",
      "11   -0.284528 -0.056110  \n",
      "12    0.484586  0.101242  \n",
      "13   -0.334527 -0.063466  \n",
      "14   13.330671  2.700454  \n",
      "15   -1.870629 -0.102404  \n",
      "16   -0.876923 -0.053482  \n",
      "17    9.310933  0.599948  \n",
      "18  124.225478  5.002937  \n",
      "19  -11.333191 -0.076033  \n",
      "20  -24.238466 -0.175995  \n",
      "21   -4.088144 -0.036024  \n",
      "22   -9.055492 -0.082777  \n",
      "23   18.725846  0.186623  \n",
      "24  -23.248197 -0.195254  \n",
      "25    5.992857  0.062544  \n",
      "26  -16.754575 -0.164565  \n",
      "27  -11.602055 -0.136404  \n",
      "28    1.255308  0.017090  \n",
      "29         NaN       NaN  \n"
     ]
    },
    {
     "data": {
      "image/png": "[encoded data removed]",
      "text/plain": [
       "<Figure size 640x480 with 1 Axes>"
      ]
     },
     "metadata": {},
     "output_type": "display_data"
    }
   ],
   "source": [
    "import matplotlib.pyplot as plt\n",
    "plt.bar(naa200r_bt.trade_records.index, naa200r_bt.trade_records['Profit %'], label = naa200r_bt.name ,color = 'blue')\n",
    "plt.legend()\n",
    "print(naa200r_bt.trade_records)"
   ]
  },
  {
   "cell_type": "code",
   "execution_count": null,
   "metadata": {},
   "outputs": [
    {
     "name": "stdout",
     "output_type": "stream",
     "text": [
      "\n",
      "        \n",
      "        Performance Summary of TH 15/30 MA 20: \n",
      "        cumulative return:9520.47%, \n",
      "        sharp_ratio: 6.00%, \n",
      "        max_drawdown: -59.61%, \n",
      "        average of daily return:0.1894%, \n",
      "        std of daily return: 3.1541%,\n",
      "        number of trades: 31,\n",
      "        trading days: 7730,\n",
      "        annual return: 15.8318%\n",
      "\n",
      "        \n",
      "        \n"
     ]
    }
   ],
   "source": [
    "naa200r_bt.performance_summary()"
   ]
  }
 ],
 "metadata": {
  "kernelspec": {
   "display_name": "Python 3",
   "language": "python",
   "name": "python3"
  },
  "language_info": {
   "codemirror_mode": {
    "name": "ipython",
    "version": 3
   },
   "file_extension": ".py",
   "mimetype": "text/x-python",
   "name": "python",
   "nbconvert_exporter": "python",
   "pygments_lexer": "ipython3",
   "version": "3.10.10"
  },
  "orig_nbformat": 4
 },
 "nbformat": 4,
 "nbformat_minor": 2
}
