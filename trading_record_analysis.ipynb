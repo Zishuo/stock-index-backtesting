{
 "cells": [
  {
   "cell_type": "code",
   "execution_count": null,
   "metadata": {},
   "outputs": [],
   "source": [
    "import Ab as ab\n",
    "import datetime as dt\n",
    "import pandas as pd\n",
    "sd = dt.datetime(2002,1,1)\n",
    "ed = dt.datetime(2023,3,14)\n",
    "# 1x leveraged nasdaq 100 etf\n",
    "qqq = ab.StockData('QQQ')\n",
    "qqq.get_data_from_yfinance('QQQ',sd,ed+dt.timedelta(days=1))\n",
    "\n",
    "qld = ab.StockData('QLD')\n",
    "qld.get_data_from_yfinance('QLD',sd,ed+dt.timedelta(days=1))\n",
    "\n",
    "tqqq = ab.StockData('TQQQ')\n",
    "tqqq.get_data_from_yfinance('TQQQ',sd,ed+dt.timedelta(days=1))\n",
    "\n",
    "spy = ab.StockData('SPY')\n",
    "spy.get_data_from_yfinance('SPY',sd,ed+dt.timedelta(days=1))\n",
    "\n",
    "ticker = tqqq\n",
    "\n",
    "naa200r = ab.StockData('NAA200R')\n",
    "naa200r.get_data_from_csv('data/NAA200R.csv')\n",
    "naa200r.data.sort_index(inplace=True)\n",
    "\n",
    "\n",
    "naa200r = ab.StockData('NAA200R')\n",
    "naa200r.get_data_from_csv('data/NAA200R.csv')\n",
    "naa200r.data.sort_index(inplace=True)\n",
    "\n",
    "\n",
    "ndxa200r = ab.StockData('NDXA200R')\n",
    "ndxa200r.get_data_from_csv('data/NDXA200R.csv')\n",
    "\n",
    "\n",
    "spxa200r = ab.StockData('SPXA200R')\n",
    "spxa200r.get_data_from_csv('data/SPXA200R.csv')\n",
    "indicator = naa200r\n",
    "\n"
   ]
  },
  {
   "cell_type": "code",
   "execution_count": null,
   "metadata": {},
   "outputs": [],
   "source": [
    "\n",
    "#buy and hold\n",
    "bah = ab.BuyAndHold(ticker)\n",
    "bah.run_strategy(ticker,sd,ed)\n",
    "bah_bt = ab.BackTest(sd,ed)\n",
    "bah_bt.run_backtest(bah,ticker,False)\n",
    "bah_bt.performance_summary()\n",
    "bah_bt.trade_records\n"
   ]
  },
  {
   "cell_type": "code",
   "execution_count": null,
   "metadata": {},
   "outputs": [],
   "source": [
    "test_start = dt.datetime(2010,3,1)\n",
    "test_end = dt.datetime(2023,3,1)\n",
    "\n",
    "naa200r_stg = ab.Threshold(name='NAA200R',signal_data = indicator, indicator = 'SignalPrice', buy_threshold = 15, sell_threshold = 30)\n",
    "naa200r_stg.run_strategy(ticker, test_start, test_end)\n"
   ]
  },
  {
   "cell_type": "code",
   "execution_count": null,
   "metadata": {},
   "outputs": [],
   "source": [
    "naa200r_bt_weekly = ab.BackTest(test_start,test_end)\n",
    "naa200r_bt_weekly.run_backtest(naa200r_stg, ticker, False,False)\n"
   ]
  },
  {
   "cell_type": "code",
   "execution_count": null,
   "metadata": {},
   "outputs": [],
   "source": [
    "import matplotlib.pyplot as plt\n",
    "naa200r_bt_weekly.plot_balance()\n",
    "naa200r_bt_weekly.performance_summary()\n",
    "\n",
    "plt.savefig('data/{}_naa200r_bt_weekly_{}-{}.png'.format(ticker.ticker,ticker.start_date.date(),ticker.end_date.date()))\n",
    "naa200r_bt_weekly.trade_records.to_csv('data/{}_naa200r_bt_weekly_{}-{}.csv'.format(ticker.ticker,ticker.start_date.date(),ticker.end_date.date()))\n",
    "\n",
    "\n"
   ]
  },
  {
   "cell_type": "code",
   "execution_count": null,
   "metadata": {},
   "outputs": [],
   "source": [
    "\n",
    "naa200r_bt_weekly.plot_records()"
   ]
  },
  {
   "cell_type": "code",
   "execution_count": null,
   "metadata": {},
   "outputs": [],
   "source": [
    "naa200r_bt_daily = ab.BackTest(sd,ed)\n",
    "naa200r_bt_daily.run_backtest(naa200r_stg, ticker)\n"
   ]
  },
  {
   "cell_type": "code",
   "execution_count": null,
   "metadata": {},
   "outputs": [],
   "source": [
    "naa200r_bt_daily.plot_balance()\n",
    "plt.savefig('data/{}_naa200r_bt_daily_{}-{}.png'.format(ticker.ticker,ticker.start_date.date(),ticker.end_date.date()))\n",
    "naa200r_bt_daily.trade_records.to_csv('data/{}_naa200r_bt_daily_{}-{}.csv'.format(ticker.ticker,ticker.start_date.date(),ticker.end_date.date()))\n",
    "naa200r_bt_daily.performance_summary()"
   ]
  },
  {
   "cell_type": "code",
   "execution_count": null,
   "metadata": {},
   "outputs": [],
   "source": [
    "naa200r_bt_daily.plot_records()"
   ]
  }
 ],
 "metadata": {
  "kernelspec": {
   "display_name": "Python 3",
   "language": "python",
   "name": "python3"
  },
  "language_info": {
   "codemirror_mode": {
    "name": "ipython",
    "version": 3
   },
   "file_extension": ".py",
   "mimetype": "text/x-python",
   "name": "python",
   "nbconvert_exporter": "python",
   "pygments_lexer": "ipython3",
   "version": "3.10.9"
  },
  "orig_nbformat": 4
 },
 "nbformat": 4,
 "nbformat_minor": 2
}
