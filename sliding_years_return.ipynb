{
 "cells": [
  {
   "cell_type": "code",
   "execution_count": null,
   "metadata": {},
   "outputs": [],
   "source": [
    "import Ab as ab\n",
    "import datetime as dt\n",
    "import matplotlib.pyplot as plt\n",
    "\n",
    "\n",
    "# Get data from yahoo finance\n",
    "sd = dt.datetime(2001,1,1)\n",
    "ed = dt.datetime(2023,3,2)\n",
    "# 1x leveraged nasdaq 100 etf\n",
    "qqq = ab.StockData('QQQ')\n",
    "qqq.get_data_from_yfinance('QQQ', sd, ed)\n",
    "#nasdaq stocks above 200 day moving average percentage\n",
    "\n",
    "qld = ab.StockData('QLD')\n",
    "qld.get_data_from_yfinance('QLD', sd, ed)\n",
    "\n",
    "naa200r = ab.StockData('NAA200R')\n",
    "naa200r.get_data_from_csv('data/NAA200R.csv')\n"
   ]
  },
  {
   "cell_type": "code",
   "execution_count": null,
   "metadata": {},
   "outputs": [],
   "source": [
    "def sliding_test(ticker: ab.StockData, stg:ab.Strategy, window: int, sd: dt.datetime, ed: dt.datetime, run_strategy: bool = True):\n",
    "    delta = ed - sd\n",
    "    result = []\n",
    "    for i in range(0, delta.days + 1, 30):\n",
    "        sd_5y = sd + dt.timedelta(days=i)\n",
    "        ed_5y = sd + dt.timedelta(days=i) + dt.timedelta(days=window)\n",
    "        \n",
    "        if run_strategy:\n",
    "            stg.run_strategy(ticker, sd_5y, ed_5y)\n",
    "        bt = None\n",
    "        bt = ab.BackTest(sd_5y, ed_5y,1)\n",
    "        bt.run_backtest(stg, ticker)\n",
    "        \n",
    "        result.append([sd_5y,bt.balance['Total'].iloc[-1], stg.name])\n",
    "        print(result[-1])\n",
    "        \n",
    "    return result\n",
    "\n"
   ]
  },
  {
   "cell_type": "code",
   "execution_count": null,
   "metadata": {},
   "outputs": [],
   "source": [
    "test_sd = dt.datetime(2001,1,1)\n",
    "test_ed = dt.datetime(2018,3,1)\n",
    "window = 365*5\n",
    "bts = []"
   ]
  },
  {
   "cell_type": "code",
   "execution_count": null,
   "metadata": {},
   "outputs": [],
   "source": [
    "buy_and_hold = ab.BuyAndHold()\n",
    "bh_result = sliding_test(qqq,buy_and_hold,window, test_sd,test_ed,True)\n",
    "bts.append(bh_result)"
   ]
  },
  {
   "cell_type": "code",
   "execution_count": null,
   "metadata": {},
   "outputs": [],
   "source": [
    "naa200R_stg = ab.Threshold(signal_data = naa200r, indicator = 'SignalPrice', buy_threshold = 15, sell_threshold = 30, signal_ma_window = 40)\n",
    "naa200r_rst_15_30_ma40 = sliding_test(qqq,naa200R_stg,window, test_sd,test_ed, True)\n",
    "bts.append(naa200r_rst_15_30_ma40)"
   ]
  },
  {
   "cell_type": "code",
   "execution_count": null,
   "metadata": {},
   "outputs": [],
   "source": [
    "threshold_strategy = ab.Threshold(signal_data = naa200r, indicator = 'SignalPrice', buy_threshold = 15, sell_threshold = 30)\n",
    "naa200r_result = sliding_test(qqq,threshold_strategy,window, test_sd,test_ed, True)\n",
    "bts.append(naa200r_result)"
   ]
  },
  {
   "cell_type": "code",
   "execution_count": null,
   "metadata": {},
   "outputs": [],
   "source": [
    "ma_threshold = ab.MAThreshold(ma_window = 200, buy_threshold = 1.05, sell_threshold = 0.95)\n",
    "ma_threshold_result = sliding_test(qqq,ma_threshold,window, test_sd,test_ed, True)\n",
    "bts.append(ma_threshold_result)\n"
   ]
  },
  {
   "cell_type": "code",
   "execution_count": null,
   "metadata": {},
   "outputs": [],
   "source": [
    "ma_threshold2 = ab.MAThreshold(ma_window = 200, buy_threshold = 1.03, sell_threshold = 0.95)\n",
    "ma_threshold_result2 = sliding_test(qqq,ma_threshold2,window, test_sd,test_ed, True)\n",
    "bts.append(ma_threshold_result2)\n"
   ]
  },
  {
   "cell_type": "code",
   "execution_count": null,
   "metadata": {},
   "outputs": [],
   "source": [
    "macross_strategy = ab.MACross(short_window=50, long_window=200)\n",
    "ma_threshold_result2 = sliding_test(qqq,macross_strategy,window, test_sd,test_ed, True)\n",
    "bts.append(ma_threshold_result2)"
   ]
  },
  {
   "cell_type": "code",
   "execution_count": null,
   "metadata": {},
   "outputs": [],
   "source": [
    "\n",
    "WeeklyMAThreshold = ab.WeeklyMAThreshold(ma_window =40,buy_threshold=1,sell_threshold=1)\n",
    "WeeklyMAThreshold_result = sliding_test(qqq,WeeklyMAThreshold,window, test_sd,test_ed, True)\n",
    "bts.append(WeeklyMAThreshold_result)"
   ]
  },
  {
   "cell_type": "code",
   "execution_count": null,
   "metadata": {},
   "outputs": [],
   "source": [
    "for bt in bts:\n",
    "    plt.plot([x[0] for x in bt], [x[1] for x in bt], lable=bt.name)\n",
    "plt.legend()"
   ]
  },
  {
   "cell_type": "code",
   "execution_count": null,
   "metadata": {},
   "outputs": [],
   "source": [
    "import numpy as np\n",
    "print('bh avg:', np.mean([x[1] for x in bh_result]))\n",
    "print('naa200r avg:', np.mean([x[1] for x in naa200r_result]))\n",
    "\n",
    "print('ma_threshold avg:', np.mean([x[1] for x in ma_threshold_result]))\n",
    "print('ma_threshold2 avg:', np.mean([x[1] for x in ma_threshold_result2]))\n",
    "print('WeeklyMAThreshold avg:', np.mean([x[1] for x in WeeklyMAThreshold_result]))\n",
    "\n",
    "print('bh std:', np.std([x[1] for x in bh_result]))\n",
    "print('naa200r std:', np.std([x[1] for x in naa200r_result]))\n",
    "\n",
    "print('ma_threshold avg:', np.std([x[1] for x in ma_threshold_result]))\n",
    "print('ma_threshold2 avg:', np.std([x[1] for x in ma_threshold_result2]))\n",
    "print('WeeklyMAThreshold avg:', np.std([x[1] for x in WeeklyMAThreshold_result]))\n",
    "\n",
    "\n"
   ]
  }
 ],
 "metadata": {
  "kernelspec": {
   "display_name": "Python 3",
   "language": "python",
   "name": "python3"
  },
  "language_info": {
   "codemirror_mode": {
    "name": "ipython",
    "version": 3
   },
   "file_extension": ".py",
   "mimetype": "text/x-python",
   "name": "python",
   "nbconvert_exporter": "python",
   "pygments_lexer": "ipython3",
   "version": "3.10.10"
  },
  "orig_nbformat": 4
 },
 "nbformat": 4,
 "nbformat_minor": 2
}
