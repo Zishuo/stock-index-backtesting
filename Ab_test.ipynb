{
 "cells": [
  {
   "cell_type": "code",
   "execution_count": 3,
   "metadata": {},
   "outputs": [
    {
     "name": "stdout",
     "output_type": "stream",
     "text": [
      "[*********************100%***********************]  1 of 1 completed\n"
     ]
    }
   ],
   "source": [
    "# ! pip install yfinance\n",
    "import Ab as ab\n",
    "import datetime as dt\n",
    "import matplotlib.pyplot as plt\n",
    "\n",
    "# Get data from yahoo finance\n",
    "sd = dt.datetime(1998,12,4)\n",
    "ed = dt.datetime(2023,2,23)\n",
    "qqq2 = ab.StockData('QQQ')\n",
    "qqq2.get_data_from_yfinance('QQQ', sd, ed)\n",
    "\n"
   ]
  },
  {
   "cell_type": "code",
   "execution_count": 5,
   "metadata": {},
   "outputs": [
    {
     "name": "stdout",
     "output_type": "stream",
     "text": [
      "buy and hold: 6338862.809280579\n",
      "moving   avg: 1000000\n"
     ]
    }
   ],
   "source": [
    "#buy and hold strategy vs moving average cross strategy\n",
    "test_start = dt.datetime(2010,1,1)\n",
    "test_end = dt.datetime(2023,2,23)\n",
    "buy_and_hold = ab.BuyAndHold() \n",
    "buy_and_hold.run_strategy(qqq2, test_start,test_end)\n",
    "\n",
    "macross_strategy = ab.MACross(50, 200)\n",
    "macross_strategy.run_strategy(qqq2, test_start ,test_end)\n",
    "\n",
    "bt = ab.BackTest(test_start, test_end)\n",
    "bt.run_backtest(buy_and_hold, qqq2)\n",
    "\n",
    "ma_cross_bt = ab.BackTest(test_start, test_end)\n",
    "ma_cross_bt.run_backtest(macross_strategy, qqq2)\n",
    "#print balance at the end of the backtest\n",
    "print(macross_strategy.trades)\n",
    "print('buy and hold:',bt.balance['Total'].iloc[-1])\n",
    "print('moving   avg:',ma_cross_bt.balance['Total'].iloc[-1])\n",
    "\n"
   ]
  },
  {
   "cell_type": "code",
   "execution_count": 3,
   "metadata": {},
   "outputs": [],
   "source": [
    "naa200r = ab.StockData('NAA200R')\n",
    "naa200r.get_data_from_csv('data/NAA200R.csv')\n",
    "\n",
    "threshold_strategy = ab.Threshold(signal_data = naa200r, indicator = 'SignalPrice', buy_threshold = 15, sell_threshold = 30)\n",
    "threshold_strategy.run_strategy(qqq2,sd,ed)\n",
    "#naa200r_threshold_bt = ab.BackTest(sd, ed)\n",
    "#naa200r_threshold_bt.run_backtest(threshold_strategy, qqq2)"
   ]
  },
  {
   "cell_type": "code",
   "execution_count": 6,
   "metadata": {},
   "outputs": [
    {
     "data": {
      "text/html": [
       "<div>\n",
       "<style scoped>\n",
       "    .dataframe tbody tr th:only-of-type {\n",
       "        vertical-align: middle;\n",
       "    }\n",
       "\n",
       "    .dataframe tbody tr th {\n",
       "        vertical-align: top;\n",
       "    }\n",
       "\n",
       "    .dataframe thead th {\n",
       "        text-align: right;\n",
       "    }\n",
       "</style>\n",
       "<table border=\"1\" class=\"dataframe\">\n",
       "  <thead>\n",
       "    <tr style=\"text-align: right;\">\n",
       "      <th></th>\n",
       "      <th>Date</th>\n",
       "      <th>Ticker</th>\n",
       "      <th>Action</th>\n",
       "      <th>Price</th>\n",
       "    </tr>\n",
       "  </thead>\n",
       "  <tbody>\n",
       "    <tr>\n",
       "      <th>0</th>\n",
       "      <td>2002-03-01</td>\n",
       "      <td>QQQ</td>\n",
       "      <td>Buy</td>\n",
       "      <td>35.740002</td>\n",
       "    </tr>\n",
       "    <tr>\n",
       "      <th>1</th>\n",
       "      <td>2002-03-04</td>\n",
       "      <td>QQQ</td>\n",
       "      <td>Buy</td>\n",
       "      <td>37.150002</td>\n",
       "    </tr>\n",
       "    <tr>\n",
       "      <th>2</th>\n",
       "      <td>2002-03-05</td>\n",
       "      <td>QQQ</td>\n",
       "      <td>Buy</td>\n",
       "      <td>37.419998</td>\n",
       "    </tr>\n",
       "    <tr>\n",
       "      <th>3</th>\n",
       "      <td>2002-03-06</td>\n",
       "      <td>QQQ</td>\n",
       "      <td>Buy</td>\n",
       "      <td>37.599998</td>\n",
       "    </tr>\n",
       "    <tr>\n",
       "      <th>4</th>\n",
       "      <td>2002-03-07</td>\n",
       "      <td>QQQ</td>\n",
       "      <td>Buy</td>\n",
       "      <td>37.680000</td>\n",
       "    </tr>\n",
       "    <tr>\n",
       "      <th>...</th>\n",
       "      <td>...</td>\n",
       "      <td>...</td>\n",
       "      <td>...</td>\n",
       "      <td>...</td>\n",
       "    </tr>\n",
       "    <tr>\n",
       "      <th>3076</th>\n",
       "      <td>2022-02-23</td>\n",
       "      <td>QQQ</td>\n",
       "      <td>Sell</td>\n",
       "      <td>329.420013</td>\n",
       "    </tr>\n",
       "    <tr>\n",
       "      <th>3077</th>\n",
       "      <td>2022-02-24</td>\n",
       "      <td>QQQ</td>\n",
       "      <td>Sell</td>\n",
       "      <td>340.489990</td>\n",
       "    </tr>\n",
       "    <tr>\n",
       "      <th>3078</th>\n",
       "      <td>2022-02-25</td>\n",
       "      <td>QQQ</td>\n",
       "      <td>Buy</td>\n",
       "      <td>345.769989</td>\n",
       "    </tr>\n",
       "    <tr>\n",
       "      <th>3079</th>\n",
       "      <td>2022-02-28</td>\n",
       "      <td>QQQ</td>\n",
       "      <td>Buy</td>\n",
       "      <td>346.799988</td>\n",
       "    </tr>\n",
       "    <tr>\n",
       "      <th>3080</th>\n",
       "      <td>2022-03-01</td>\n",
       "      <td>QQQ</td>\n",
       "      <td>Sell</td>\n",
       "      <td>341.489990</td>\n",
       "    </tr>\n",
       "  </tbody>\n",
       "</table>\n",
       "<p>3081 rows × 4 columns</p>\n",
       "</div>"
      ],
      "text/plain": [
       "           Date Ticker Action       Price\n",
       "0    2002-03-01    QQQ    Buy   35.740002\n",
       "1    2002-03-04    QQQ    Buy   37.150002\n",
       "2    2002-03-05    QQQ    Buy   37.419998\n",
       "3    2002-03-06    QQQ    Buy   37.599998\n",
       "4    2002-03-07    QQQ    Buy   37.680000\n",
       "...         ...    ...    ...         ...\n",
       "3076 2022-02-23    QQQ   Sell  329.420013\n",
       "3077 2022-02-24    QQQ   Sell  340.489990\n",
       "3078 2022-02-25    QQQ    Buy  345.769989\n",
       "3079 2022-02-28    QQQ    Buy  346.799988\n",
       "3080 2022-03-01    QQQ   Sell  341.489990\n",
       "\n",
       "[3081 rows x 4 columns]"
      ]
     },
     "execution_count": 6,
     "metadata": {},
     "output_type": "execute_result"
    }
   ],
   "source": [
    "threshold_strategy.trades"
   ]
  },
  {
   "cell_type": "code",
   "execution_count": null,
   "metadata": {},
   "outputs": [
    {
     "data": {
      "text/plain": [
       "<AxesSubplot: xlabel='Date'>"
      ]
     },
     "execution_count": 7,
     "metadata": {},
     "output_type": "execute_result"
    },
    {
     "data": {
      "image/png": "[encoded data removed]",
      "text/plain": [
       "<Figure size 640x480 with 1 Axes>"
      ]
     },
     "metadata": {},
     "output_type": "display_data"
    }
   ],
   "source": [
    "#qqq2.data['Close'].plot()\n",
    "qqq2.data['LongMA'].plot()\n",
    "qqq2.data['ShortMA'].plot()"
   ]
  },
  {
   "cell_type": "code",
   "execution_count": 7,
   "metadata": {},
   "outputs": [
    {
     "data": {
      "text/plain": [
       "[<matplotlib.lines.Line2D at 0x7f197274ab30>]"
      ]
     },
     "execution_count": 7,
     "metadata": {},
     "output_type": "execute_result"
    },
    {
     "data": {
      "image/png": "[encoded data removed]",
      "text/plain": [
       "<Figure size 640x480 with 1 Axes>"
      ]
     },
     "metadata": {},
     "output_type": "display_data"
    }
   ],
   "source": [
    "plt.plot(bt.balance['Date'], bt.balance['Total'], label = 'Buy and Hold',color = 'blue')\n",
    "plt.plot(ma_cross_bt.balance['Date'], ma_cross_bt.balance['Total'], label = 'Moving Average Cross', color = 'red')\n",
    "#plt.plot(qqq2.data.index, qqq2.data['Close'], qqq2.data['ShortMA'], qqq2.data['LongMA'])\n"
   ]
  },
  {
   "cell_type": "markdown",
   "metadata": {},
   "source": []
  },
  {
   "cell_type": "code",
   "execution_count": 14,
   "metadata": {},
   "outputs": [
    {
     "ename": "KeyboardInterrupt",
     "evalue": "",
     "output_type": "error",
     "traceback": [
      "\u001b[0;31m---------------------------------------------------------------------------\u001b[0m",
      "\u001b[0;31mKeyboardInterrupt\u001b[0m                         Traceback (most recent call last)",
      "Cell \u001b[0;32mIn[14], line 16\u001b[0m\n\u001b[1;32m     14\u001b[0m     bt \u001b[39m=\u001b[39m \u001b[39mNone\u001b[39;00m\n\u001b[1;32m     15\u001b[0m     bt \u001b[39m=\u001b[39m ab\u001b[39m.\u001b[39mBackTest(sd_5y, ed_5y,\u001b[39m1\u001b[39m)\n\u001b[0;32m---> 16\u001b[0m     bt\u001b[39m.\u001b[39;49mrun_backtest(buy_and_hold_strategy, qqq2)\n\u001b[1;32m     17\u001b[0m     result\u001b[39m.\u001b[39mappend([sd_5y,bt\u001b[39m.\u001b[39mbalance[\u001b[39m'\u001b[39m\u001b[39mTotal\u001b[39m\u001b[39m'\u001b[39m]\u001b[39m.\u001b[39miloc[\u001b[39m-\u001b[39m\u001b[39m1\u001b[39m]])\n\u001b[1;32m     18\u001b[0m \u001b[39m#    print(i, sd_5y, ed_5y, bt.balance['Total'].iloc[-1])\u001b[39;00m\n",
      "File \u001b[0;32m/workspaces/backtesting/Ab.py:283\u001b[0m, in \u001b[0;36mBackTest.run_backtest\u001b[0;34m(self, strategy, stock_data)\u001b[0m\n\u001b[1;32m    281\u001b[0m         \u001b[39mself\u001b[39m\u001b[39m.\u001b[39mbalance\u001b[39m.\u001b[39mloc[i[\u001b[39m0\u001b[39m], \u001b[39m'\u001b[39m\u001b[39mCash\u001b[39m\u001b[39m'\u001b[39m] \u001b[39m=\u001b[39m \u001b[39mself\u001b[39m\u001b[39m.\u001b[39mbalance\u001b[39m.\u001b[39mloc[i[\u001b[39m0\u001b[39m]\u001b[39m-\u001b[39m\u001b[39m1\u001b[39m, \u001b[39m'\u001b[39m\u001b[39mCash\u001b[39m\u001b[39m'\u001b[39m]\n\u001b[1;32m    282\u001b[0m         \u001b[39mself\u001b[39m\u001b[39m.\u001b[39mbalance\u001b[39m.\u001b[39mloc[i[\u001b[39m0\u001b[39m], \u001b[39m'\u001b[39m\u001b[39mStock\u001b[39m\u001b[39m'\u001b[39m] \u001b[39m=\u001b[39m  \u001b[39mself\u001b[39m\u001b[39m.\u001b[39mbalance\u001b[39m.\u001b[39mloc[i[\u001b[39m0\u001b[39m]\u001b[39m-\u001b[39m\u001b[39m1\u001b[39m, \u001b[39m'\u001b[39m\u001b[39mStock\u001b[39m\u001b[39m'\u001b[39m]\n\u001b[0;32m--> 283\u001b[0m         \u001b[39mself\u001b[39m\u001b[39m.\u001b[39mbalance\u001b[39m.\u001b[39mloc[i[\u001b[39m0\u001b[39m], \u001b[39m'\u001b[39m\u001b[39mTotal\u001b[39m\u001b[39m'\u001b[39m] \u001b[39m=\u001b[39m stock_data\u001b[39m.\u001b[39;49mdata\u001b[39m.\u001b[39;49mloc[i[\u001b[39m1\u001b[39;49m][\u001b[39m'\u001b[39;49m\u001b[39mDate\u001b[39;49m\u001b[39m'\u001b[39;49m], \u001b[39m'\u001b[39;49m\u001b[39mClose\u001b[39;49m\u001b[39m'\u001b[39;49m] \u001b[39m*\u001b[39m \u001b[39mself\u001b[39m\u001b[39m.\u001b[39mbalance\u001b[39m.\u001b[39mloc[i[\u001b[39m0\u001b[39m], \u001b[39m'\u001b[39m\u001b[39mStock\u001b[39m\u001b[39m'\u001b[39m] \u001b[39m+\u001b[39m \u001b[39mself\u001b[39m\u001b[39m.\u001b[39mbalance\u001b[39m.\u001b[39mloc[i[\u001b[39m0\u001b[39m], \u001b[39m'\u001b[39m\u001b[39mCash\u001b[39m\u001b[39m'\u001b[39m]\n\u001b[1;32m    284\u001b[0m i \u001b[39m=\u001b[39m \u001b[39mnext\u001b[39m(x, \u001b[39mNone\u001b[39;00m)\n",
      "File \u001b[0;32m~/.local/lib/python3.10/site-packages/pandas/core/indexing.py:1063\u001b[0m, in \u001b[0;36m_LocationIndexer.__getitem__\u001b[0;34m(self, key)\u001b[0m\n\u001b[1;32m   1061\u001b[0m check_deprecated_indexers(key)\n\u001b[1;32m   1062\u001b[0m \u001b[39mif\u001b[39;00m \u001b[39mtype\u001b[39m(key) \u001b[39mis\u001b[39;00m \u001b[39mtuple\u001b[39m:\n\u001b[0;32m-> 1063\u001b[0m     key \u001b[39m=\u001b[39m \u001b[39mtuple\u001b[39m(\u001b[39mlist\u001b[39m(x) \u001b[39mif\u001b[39;00m is_iterator(x) \u001b[39melse\u001b[39;00m x \u001b[39mfor\u001b[39;00m x \u001b[39min\u001b[39;00m key)\n\u001b[1;32m   1064\u001b[0m     key \u001b[39m=\u001b[39m \u001b[39mtuple\u001b[39m(com\u001b[39m.\u001b[39mapply_if_callable(x, \u001b[39mself\u001b[39m\u001b[39m.\u001b[39mobj) \u001b[39mfor\u001b[39;00m x \u001b[39min\u001b[39;00m key)\n\u001b[1;32m   1065\u001b[0m     \u001b[39mif\u001b[39;00m \u001b[39mself\u001b[39m\u001b[39m.\u001b[39m_is_scalar_access(key):\n",
      "\u001b[0;31mKeyboardInterrupt\u001b[0m: "
     ]
    }
   ],
   "source": [
    "#backtest buy and hold strategy over 5 year periods\n",
    "#starting date 30 days apart\n",
    "sd = dt.datetime(2000,1,1)\n",
    "ed = dt.datetime(2017,1,1)\n",
    "hold_period = 365*5\n",
    "delta = ed - sd\n",
    "result = []\n",
    "for i in range(0, delta.days + 1, 30):\n",
    "    sd_5y = sd + dt.timedelta(days=i)\n",
    "    ed_5y = sd + dt.timedelta(days=i) + dt.timedelta(days=hold_period)\n",
    "    buy_and_hold_strategy = None\n",
    "    buy_and_hold_strategy = ab.BuyAndHold()\n",
    "    buy_and_hold_strategy.run_strategy(qqq2, sd_5y, ed_5y)\n",
    "    bt = None\n",
    "    bt = ab.BackTest(sd_5y, ed_5y,1)\n",
    "    bt.run_backtest(buy_and_hold_strategy, qqq2)\n",
    "    result.append([sd_5y,bt.balance['Total'].iloc[-1]])\n",
    "#    print(i, sd_5y, ed_5y, bt.balance['Total'].iloc[-1])\n",
    "\n",
    "print(result)\n",
    "plt.plot([x[0] for x in result], [x[1] for x in result])"
   ]
  },
  {
   "cell_type": "code",
   "execution_count": 38,
   "metadata": {},
   "outputs": [],
   "source": [
    "sd = dt.datetime(2014,1,1)\n",
    "hold_period = 365*5\n",
    "result = []\n",
    "i=0\n",
    "sd_5y = sd + dt.timedelta(days=i)\n",
    "ed_5y = sd + dt.timedelta(days=i) + dt.timedelta(days=hold_period)\n",
    "buy_and_hold_strategy = None\n",
    "buy_and_hold_strategy = ab.BuyAndHold()\n",
    "buy_and_hold_strategy.run_strategy(qqq2, sd_5y, ed_5y)\n",
    "bt = None\n",
    "bt = ab.BackTest(sd_5y, ed_5y,1)\n",
    "bt.run_backtest(buy_and_hold_strategy, qqq2)\n",
    "result.append([sd_5y,bt.balance['Total'].iloc[-1]])"
   ]
  },
  {
   "cell_type": "code",
   "execution_count": 39,
   "metadata": {},
   "outputs": [
    {
     "data": {
      "text/plain": [
       "[[datetime.datetime(2014, 1, 1, 0, 0), 1.7676177431031435]]"
      ]
     },
     "execution_count": 39,
     "metadata": {},
     "output_type": "execute_result"
    }
   ],
   "source": [
    "result"
   ]
  },
  {
   "cell_type": "code",
   "execution_count": null,
   "metadata": {
    "tags": []
   },
   "outputs": [
    {
     "name": "stdout",
     "output_type": "stream",
     "text": [
      "[*********************100%***********************]  1 of 1 completed\n",
      "1999-03-10 00:00:00 51.0625\n",
      "Empty DataFrame\n",
      "Columns: [Date, Ticker, Action, Price]\n",
      "Index: []\n"
     ]
    }
   ],
   "source": [
    "import Ab as ab\n",
    "import datetime as dt\n",
    "import matplotlib.pyplot as plt\n",
    "import yfinance as yf\n",
    "import pandas as pd\n",
    "#start_date = '2003-03-10'\n",
    "#end_date = '2023-01-01'\n",
    "\n",
    "start_date = dt.datetime(2003,3,10)\n",
    "end_date = dt.datetime(2023,1,1)\n",
    "\n",
    "ticker = 'QQQ'\n",
    "\n",
    "period= 'max'\n",
    "interval ='1d'"
   ]
  },
  {
   "cell_type": "code",
   "execution_count": null,
   "metadata": {
    "tags": []
   },
   "outputs": [],
   "source": [
    "#data = yf.Ticker(ticker).history(period= period,interval =interval,start =start_date,end = end_date,prepost=False, actions=True,auto_adjust=True, back_adjust=False,proxy=None, rounding=False, timeout=None)\n",
    "#data.index = data.index.strftime('%Y-%m-%d')\n",
    "#data.index = pd.to_datetime(data.index)\n",
    "#data.head(1)\n"
   ]
  },
  {
   "cell_type": "code",
   "execution_count": null,
   "metadata": {
    "tags": []
   },
   "outputs": [],
   "source": [
    "qqq = ab.StockData(ticker)\n",
    "qqq.get_data_history_from_yfinance(ticker, 'max','1d',start_date, end_date)\n",
    "\n",
    "#qqq.get_data_from_yfinance('QQQ', sd, ed)"
   ]
  },
  {
   "cell_type": "code",
   "execution_count": null,
   "metadata": {
    "tags": []
   },
   "outputs": [],
   "source": [
    "buy_and_hold = ab.BuyAndHold()\n",
    "buy_and_hold.run_strategy(qqq, start_date,end_date)"
   ]
  },
  {
   "cell_type": "code",
   "execution_count": null,
   "metadata": {
    "tags": []
   },
   "outputs": [
    {
     "data": {
      "text/html": [
       "<div>\n",
       "<style scoped>\n",
       "    .dataframe tbody tr th:only-of-type {\n",
       "        vertical-align: middle;\n",
       "    }\n",
       "\n",
       "    .dataframe tbody tr th {\n",
       "        vertical-align: top;\n",
       "    }\n",
       "\n",
       "    .dataframe thead th {\n",
       "        text-align: right;\n",
       "    }\n",
       "</style>\n",
       "<table border=\"1\" class=\"dataframe\">\n",
       "  <thead>\n",
       "    <tr style=\"text-align: right;\">\n",
       "      <th></th>\n",
       "      <th>Date</th>\n",
       "      <th>Ticker</th>\n",
       "      <th>Action</th>\n",
       "      <th>Price</th>\n",
       "    </tr>\n",
       "  </thead>\n",
       "  <tbody>\n",
       "    <tr>\n",
       "      <th>0</th>\n",
       "      <td>2003-03-10</td>\n",
       "      <td>QQQ</td>\n",
       "      <td>BuyAll</td>\n",
       "      <td>20.645077</td>\n",
       "    </tr>\n",
       "    <tr>\n",
       "      <th>1</th>\n",
       "      <td>2022-12-30</td>\n",
       "      <td>QQQ</td>\n",
       "      <td>SellAll</td>\n",
       "      <td>266.279999</td>\n",
       "    </tr>\n",
       "  </tbody>\n",
       "</table>\n",
       "</div>"
      ],
      "text/plain": [
       "        Date Ticker   Action       Price\n",
       "0 2003-03-10    QQQ   BuyAll   20.645077\n",
       "1 2022-12-30    QQQ  SellAll  266.279999"
      ]
     },
     "execution_count": 6,
     "metadata": {},
     "output_type": "execute_result"
    }
   ],
   "source": [
    "buy_and_hold.trades"
   ]
  },
  {
   "cell_type": "code",
   "execution_count": null,
   "metadata": {
    "tags": []
   },
   "outputs": [],
   "source": [
    "macross_strategy = ab.MACross(50, 200)\n",
    "macross_strategy.run_strategy(qqq, start_date,end_date)"
   ]
  },
  {
   "cell_type": "code",
   "execution_count": null,
   "metadata": {
    "tags": []
   },
   "outputs": [
    {
     "data": {
      "text/plain": [
       "Action\n",
       "Buy    2022-03-01\n",
       "Sell   2022-12-30\n",
       "Name: Date, dtype: datetime64[ns]"
      ]
     },
     "execution_count": 8,
     "metadata": {},
     "output_type": "execute_result"
    }
   ],
   "source": [
    "macross_strategy.trades.groupby('Action').max()['Date']"
   ]
  },
  {
   "cell_type": "code",
   "execution_count": null,
   "metadata": {
    "tags": []
   },
   "outputs": [],
   "source": [
    "#macross_strategy.trades"
   ]
  },
  {
   "cell_type": "code",
   "execution_count": null,
   "metadata": {
    "tags": []
   },
   "outputs": [],
   "source": [
    "bt = ab.BackTest(start_date, end_date)\n",
    "bt.run_backtest(buy_and_hold, qqq)"
   ]
  },
  {
   "cell_type": "code",
   "execution_count": null,
   "metadata": {
    "tags": []
   },
   "outputs": [
    {
     "data": {
      "text/html": [
       "<div>\n",
       "<style scoped>\n",
       "    .dataframe tbody tr th:only-of-type {\n",
       "        vertical-align: middle;\n",
       "    }\n",
       "\n",
       "    .dataframe tbody tr th {\n",
       "        vertical-align: top;\n",
       "    }\n",
       "\n",
       "    .dataframe thead th {\n",
       "        text-align: right;\n",
       "    }\n",
       "</style>\n",
       "<table border=\"1\" class=\"dataframe\">\n",
       "  <thead>\n",
       "    <tr style=\"text-align: right;\">\n",
       "      <th></th>\n",
       "      <th>Date</th>\n",
       "      <th>Cash</th>\n",
       "      <th>Stock</th>\n",
       "      <th>Total</th>\n",
       "      <th>Margin</th>\n",
       "    </tr>\n",
       "  </thead>\n",
       "  <tbody>\n",
       "    <tr>\n",
       "      <th>0</th>\n",
       "      <td>2003-03-10</td>\n",
       "      <td>0.000000e+00</td>\n",
       "      <td>48437.698345</td>\n",
       "      <td>1.000000e+06</td>\n",
       "      <td>0</td>\n",
       "    </tr>\n",
       "    <tr>\n",
       "      <th>1</th>\n",
       "      <td>2003-03-11</td>\n",
       "      <td>0.000000e+00</td>\n",
       "      <td>48437.698345</td>\n",
       "      <td>1.000000e+06</td>\n",
       "      <td>0</td>\n",
       "    </tr>\n",
       "    <tr>\n",
       "      <th>2</th>\n",
       "      <td>2003-03-12</td>\n",
       "      <td>0.000000e+00</td>\n",
       "      <td>48437.698345</td>\n",
       "      <td>1.000000e+06</td>\n",
       "      <td>0</td>\n",
       "    </tr>\n",
       "    <tr>\n",
       "      <th>3</th>\n",
       "      <td>2003-03-13</td>\n",
       "      <td>0.000000e+00</td>\n",
       "      <td>48437.698345</td>\n",
       "      <td>1.000000e+06</td>\n",
       "      <td>0</td>\n",
       "    </tr>\n",
       "    <tr>\n",
       "      <th>4</th>\n",
       "      <td>2003-03-14</td>\n",
       "      <td>0.000000e+00</td>\n",
       "      <td>48437.698345</td>\n",
       "      <td>1.000000e+06</td>\n",
       "      <td>0</td>\n",
       "    </tr>\n",
       "    <tr>\n",
       "      <th>...</th>\n",
       "      <td>...</td>\n",
       "      <td>...</td>\n",
       "      <td>...</td>\n",
       "      <td>...</td>\n",
       "      <td>...</td>\n",
       "    </tr>\n",
       "    <tr>\n",
       "      <th>4985</th>\n",
       "      <td>2022-12-23</td>\n",
       "      <td>0.000000e+00</td>\n",
       "      <td>48437.698345</td>\n",
       "      <td>1.000000e+06</td>\n",
       "      <td>0</td>\n",
       "    </tr>\n",
       "    <tr>\n",
       "      <th>4986</th>\n",
       "      <td>2022-12-27</td>\n",
       "      <td>0.000000e+00</td>\n",
       "      <td>48437.698345</td>\n",
       "      <td>1.000000e+06</td>\n",
       "      <td>0</td>\n",
       "    </tr>\n",
       "    <tr>\n",
       "      <th>4987</th>\n",
       "      <td>2022-12-28</td>\n",
       "      <td>0.000000e+00</td>\n",
       "      <td>48437.698345</td>\n",
       "      <td>1.000000e+06</td>\n",
       "      <td>0</td>\n",
       "    </tr>\n",
       "    <tr>\n",
       "      <th>4988</th>\n",
       "      <td>2022-12-29</td>\n",
       "      <td>0.000000e+00</td>\n",
       "      <td>48437.698345</td>\n",
       "      <td>1.000000e+06</td>\n",
       "      <td>0</td>\n",
       "    </tr>\n",
       "    <tr>\n",
       "      <th>4989</th>\n",
       "      <td>2022-12-30</td>\n",
       "      <td>1.289799e+07</td>\n",
       "      <td>0.000000</td>\n",
       "      <td>1.289799e+07</td>\n",
       "      <td>0</td>\n",
       "    </tr>\n",
       "  </tbody>\n",
       "</table>\n",
       "<p>4990 rows × 5 columns</p>\n",
       "</div>"
      ],
      "text/plain": [
       "           Date          Cash         Stock         Total  Margin\n",
       "0    2003-03-10  0.000000e+00  48437.698345  1.000000e+06       0\n",
       "1    2003-03-11  0.000000e+00  48437.698345  1.000000e+06       0\n",
       "2    2003-03-12  0.000000e+00  48437.698345  1.000000e+06       0\n",
       "3    2003-03-13  0.000000e+00  48437.698345  1.000000e+06       0\n",
       "4    2003-03-14  0.000000e+00  48437.698345  1.000000e+06       0\n",
       "...         ...           ...           ...           ...     ...\n",
       "4985 2022-12-23  0.000000e+00  48437.698345  1.000000e+06       0\n",
       "4986 2022-12-27  0.000000e+00  48437.698345  1.000000e+06       0\n",
       "4987 2022-12-28  0.000000e+00  48437.698345  1.000000e+06       0\n",
       "4988 2022-12-29  0.000000e+00  48437.698345  1.000000e+06       0\n",
       "4989 2022-12-30  1.289799e+07      0.000000  1.289799e+07       0\n",
       "\n",
       "[4990 rows x 5 columns]"
      ]
     },
     "execution_count": 11,
     "metadata": {},
     "output_type": "execute_result"
    }
   ],
   "source": [
    "bt.balance"
   ]
  },
  {
   "cell_type": "code",
   "execution_count": null,
   "metadata": {
    "tags": []
   },
   "outputs": [],
   "source": [
    "ma_cross_bt = ab.BackTest(start_date, end_date)\n",
    "ma_cross_bt.run_backtest(macross_strategy, qqq)"
   ]
  },
  {
   "cell_type": "code",
   "execution_count": null,
   "metadata": {
    "tags": []
   },
   "outputs": [
    {
     "data": {
      "text/html": [
       "<div>\n",
       "<style scoped>\n",
       "    .dataframe tbody tr th:only-of-type {\n",
       "        vertical-align: middle;\n",
       "    }\n",
       "\n",
       "    .dataframe tbody tr th {\n",
       "        vertical-align: top;\n",
       "    }\n",
       "\n",
       "    .dataframe thead th {\n",
       "        text-align: right;\n",
       "    }\n",
       "</style>\n",
       "<table border=\"1\" class=\"dataframe\">\n",
       "  <thead>\n",
       "    <tr style=\"text-align: right;\">\n",
       "      <th></th>\n",
       "      <th>Date</th>\n",
       "      <th>Cash</th>\n",
       "      <th>Stock</th>\n",
       "      <th>Total</th>\n",
       "      <th>Margin</th>\n",
       "    </tr>\n",
       "  </thead>\n",
       "  <tbody>\n",
       "    <tr>\n",
       "      <th>0</th>\n",
       "      <td>2003-03-10</td>\n",
       "      <td>1.000000e+06</td>\n",
       "      <td>0.0</td>\n",
       "      <td>1.000000e+06</td>\n",
       "      <td>0</td>\n",
       "    </tr>\n",
       "    <tr>\n",
       "      <th>1</th>\n",
       "      <td>2003-03-11</td>\n",
       "      <td>1.000000e+06</td>\n",
       "      <td>0.0</td>\n",
       "      <td>1.000000e+06</td>\n",
       "      <td>0</td>\n",
       "    </tr>\n",
       "    <tr>\n",
       "      <th>2</th>\n",
       "      <td>2003-03-12</td>\n",
       "      <td>1.000000e+06</td>\n",
       "      <td>0.0</td>\n",
       "      <td>1.000000e+06</td>\n",
       "      <td>0</td>\n",
       "    </tr>\n",
       "    <tr>\n",
       "      <th>3</th>\n",
       "      <td>2003-03-13</td>\n",
       "      <td>1.000000e+06</td>\n",
       "      <td>0.0</td>\n",
       "      <td>1.000000e+06</td>\n",
       "      <td>0</td>\n",
       "    </tr>\n",
       "    <tr>\n",
       "      <th>4</th>\n",
       "      <td>2003-03-14</td>\n",
       "      <td>1.000000e+06</td>\n",
       "      <td>0.0</td>\n",
       "      <td>1.000000e+06</td>\n",
       "      <td>0</td>\n",
       "    </tr>\n",
       "    <tr>\n",
       "      <th>...</th>\n",
       "      <td>...</td>\n",
       "      <td>...</td>\n",
       "      <td>...</td>\n",
       "      <td>...</td>\n",
       "      <td>...</td>\n",
       "    </tr>\n",
       "    <tr>\n",
       "      <th>4985</th>\n",
       "      <td>2022-12-23</td>\n",
       "      <td>5.757425e+06</td>\n",
       "      <td>0.0</td>\n",
       "      <td>5.757425e+06</td>\n",
       "      <td>0</td>\n",
       "    </tr>\n",
       "    <tr>\n",
       "      <th>4986</th>\n",
       "      <td>2022-12-27</td>\n",
       "      <td>5.757425e+06</td>\n",
       "      <td>0.0</td>\n",
       "      <td>5.757425e+06</td>\n",
       "      <td>0</td>\n",
       "    </tr>\n",
       "    <tr>\n",
       "      <th>4987</th>\n",
       "      <td>2022-12-28</td>\n",
       "      <td>5.757425e+06</td>\n",
       "      <td>0.0</td>\n",
       "      <td>5.757425e+06</td>\n",
       "      <td>0</td>\n",
       "    </tr>\n",
       "    <tr>\n",
       "      <th>4988</th>\n",
       "      <td>2022-12-29</td>\n",
       "      <td>5.757425e+06</td>\n",
       "      <td>0.0</td>\n",
       "      <td>5.757425e+06</td>\n",
       "      <td>0</td>\n",
       "    </tr>\n",
       "    <tr>\n",
       "      <th>4989</th>\n",
       "      <td>2022-12-30</td>\n",
       "      <td>5.757425e+06</td>\n",
       "      <td>0.0</td>\n",
       "      <td>5.757425e+06</td>\n",
       "      <td>0</td>\n",
       "    </tr>\n",
       "  </tbody>\n",
       "</table>\n",
       "<p>4990 rows × 5 columns</p>\n",
       "</div>"
      ],
      "text/plain": [
       "           Date          Cash  Stock         Total  Margin\n",
       "0    2003-03-10  1.000000e+06    0.0  1.000000e+06       0\n",
       "1    2003-03-11  1.000000e+06    0.0  1.000000e+06       0\n",
       "2    2003-03-12  1.000000e+06    0.0  1.000000e+06       0\n",
       "3    2003-03-13  1.000000e+06    0.0  1.000000e+06       0\n",
       "4    2003-03-14  1.000000e+06    0.0  1.000000e+06       0\n",
       "...         ...           ...    ...           ...     ...\n",
       "4985 2022-12-23  5.757425e+06    0.0  5.757425e+06       0\n",
       "4986 2022-12-27  5.757425e+06    0.0  5.757425e+06       0\n",
       "4987 2022-12-28  5.757425e+06    0.0  5.757425e+06       0\n",
       "4988 2022-12-29  5.757425e+06    0.0  5.757425e+06       0\n",
       "4989 2022-12-30  5.757425e+06    0.0  5.757425e+06       0\n",
       "\n",
       "[4990 rows x 5 columns]"
      ]
     },
     "execution_count": 13,
     "metadata": {},
     "output_type": "execute_result"
    }
   ],
   "source": [
    "ma_cross_bt.balance"
   ]
  },
  {
   "cell_type": "code",
   "execution_count": 30,
   "metadata": {
    "tags": []
   },
   "outputs": [
    {
     "data": {
      "text/plain": [
       "[<matplotlib.lines.Line2D at 0x7fc4dcc28610>]"
      ]
     },
     "execution_count": 30,
     "metadata": {},
     "output_type": "execute_result"
    },
    {
     "data": {
      "image/png": "[encoded data removed]",
      "text/plain": [
       "<Figure size 640x480 with 1 Axes>"
      ]
     },
     "metadata": {},
     "output_type": "display_data"
    }
   ],
   "source": [
    "#plt.plot(bt.balance['Date'], bt.balance['Total'])\n",
    "plt.plot(ma_cross_bt.balance['Date'], ma_cross_bt.balance['Total'])\n",
    "#plt.plot(qqq.data.index, qqq.data['Close'], qqq.data['ShortMA'], qqq.data['LongMA'])"
   ]
  },
  {
   "cell_type": "code",
   "execution_count": null,
   "metadata": {},
   "outputs": [],
   "source": []
  }
 ],
 "metadata": {
  "kernelspec": {
   "display_name": "Python 3 (ipykernel)",
   "language": "python",
   "name": "python3"
  },
  "language_info": {
   "codemirror_mode": {
    "name": "ipython",
    "version": 3
   },
   "file_extension": ".py",
   "mimetype": "text/x-python",
   "name": "python",
   "nbconvert_exporter": "python",
   "pygments_lexer": "ipython3",
   "version": "3.10.4"
  },
  "vscode": {
   "interpreter": {
    "hash": "3ad933181bd8a04b432d3370b9dc3b0662ad032c4dfaa4e4f1596c548f763858"
   }
  }
 },
 "nbformat": 4,
 "nbformat_minor": 4
}
