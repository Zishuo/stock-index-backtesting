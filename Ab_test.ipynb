{
 "cells": [
  {
   "cell_type": "code",
   "execution_count": null,
   "metadata": {
    "tags": []
   },
   "outputs": [],
   "source": [
    "# ! pip install yfinance\n",
    "import Ab as ab\n",
    "import datetime as dt\n",
    "import matplotlib.pyplot as plt\n",
    "import pandas as pd\n",
    "\n",
    "# Get data from yahoo finance\n",
    "sd = dt.datetime(1998,12,4)\n",
    "ed = dt.datetime(2023,3,14)\n",
    "# 1x leveraged nasdaq 100 etf\n",
    "qqq = ab.StockData('QQQ')\n",
    "qqq.get_data_from_yfinance('QQQ', sd, ed)\n",
    "# 2x leveraged nasdaq 100 etf\n",
    "qld = ab.StockData('QLD')\n",
    "qld.get_data_from_yfinance('QLD', sd, ed)\n",
    "# 3x leveraged nasdaq 100 etf\n",
    "tqqq = ab.StockData('TQQQ')\n",
    "tqqq.get_data_from_yfinance('TQQQ', sd, ed)\n",
    "#nasdaq 100 index\n",
    "ndx = ab.StockData('NDX')\n",
    "ndx.get_data_from_yfinance('NDX', sd, ed)\n",
    "#S&P 500 etf\n",
    "spy = ab.StockData('SPY')\n",
    "spy.get_data_from_yfinance('SPY', sd, ed)\n",
    "#nasdaq stocks above 200 day moving average percentage\n",
    "naa200r = ab.StockData('NAA200R')\n",
    "naa200r.get_data_from_csv('data/NAA200R.csv')"
   ]
  },
  {
   "cell_type": "code",
   "execution_count": null,
   "metadata": {
    "tags": []
   },
   "outputs": [],
   "source": [
    "#buy and hold strategy vs various  strategies\n",
    "def backtestAll(ticker:ab.StockData, indicator:ab.StockData, test_start:dt.datetime,test_end:dt.datetime, verbose = True, weekly_buy=False, weekly_sell=False):\n",
    "    perf_summary = pd.DataFrame()\n",
    "    buy_and_hold = ab.BuyAndHold() \n",
    "    buy_and_hold.run_strategy(ticker, test_start,test_end)\n",
    "    bt = ab.BackTest(test_start, test_end)\n",
    "    bt.run_backtest(buy_and_hold, ticker)\n",
    "\n",
    "    macross_strategy = ab.MACross('Ma Cross',50, 200)\n",
    "    macross_strategy.run_strategy(indicator, test_start ,test_end)\n",
    "    ma_cross_bt = ab.BackTest(test_start, test_end)\n",
    "    ma_cross_bt.run_backtest(macross_strategy, ticker,weekly_buy,weekly_sell)\n",
    "\n",
    "    threshold_strategy = ab.Threshold(signal_data = naa200r, name='NAA200R', indicator = 'SignalPrice', buy_threshold = 15, sell_threshold = 30, signal_ma_window=20)\n",
    "    threshold_strategy.run_strategy(naa200r, test_start , test_end)\n",
    "    naa200r_threshold_bt = ab.BackTest(test_start , test_end)\n",
    "    naa200r_threshold_bt.run_backtest(threshold_strategy, ticker,weekly_buy,weekly_sell)\n",
    "\n",
    "    threshold_strategy_2 = ab.Threshold(signal_data = naa200r, name='NAA200R', indicator = 'SignalPrice', buy_threshold = 15, sell_threshold = 30, signal_ma_window=40)\n",
    "    threshold_strategy_2.run_strategy(naa200r, test_start , test_end)\n",
    "    naa200r_threshold_bt_2 = ab.BackTest(test_start , test_end)\n",
    "    naa200r_threshold_bt_2.run_backtest(threshold_strategy_2, ticker,weekly_buy,weekly_sell)\n",
    "\n",
    "    ma_threshold = ab.MAThreshold('SMA200', ma_window = 200,buy_threshold = 1.05, sell_threshold = 0.95)\n",
    "    ma_threshold.run_strategy(indicator, test_start,test_end)\n",
    "    ma_threshold_bt = ab.BackTest(test_start, test_end)\n",
    "    ma_threshold_bt.run_backtest(ma_threshold, ticker,weekly_buy,weekly_sell)\n",
    "\n",
    "    ma_threshold2 = ab.MAThreshold('SMA200', ma_window = 200,buy_threshold = 1.03, sell_threshold = 0.95)\n",
    "    ma_threshold2.run_strategy(indicator, test_start,test_end)\n",
    "    ma_threshold2_bt = ab.BackTest(test_start, test_end)\n",
    "    ma_threshold2_bt.run_backtest(ma_threshold2, ticker,weekly_buy,weekly_sell)\n",
    "    \n",
    "    WeeklyMAThreshold = ab.WeeklyMAThreshold('2W SMA200', ma_window =40,buy_threshold=1,sell_threshold=1)\n",
    "    WeeklyMAThreshold.run_strategy(indicator, test_start , test_end)\n",
    "    WeeklyMAThreshold_bt = ab.BackTest(test_start , test_end)\n",
    "    WeeklyMAThreshold_bt.run_backtest(WeeklyMAThreshold, ticker,weekly_buy,weekly_sell)\n",
    "\n",
    "    print('Backtest for', ticker.ticker)\n",
    "    bt.performance_summary()\n",
    "    ma_cross_bt.performance_summary()\n",
    "    naa200r_threshold_bt.performance_summary()\n",
    "    naa200r_threshold_bt_2.performance_summary()\n",
    "    ma_threshold_bt.performance_summary()\n",
    "    ma_threshold2_bt.performance_summary()\n",
    "    WeeklyMAThreshold_bt.performance_summary()\n",
    "    \n",
    "    fig = plt.figure(figsize=(16,4))\n",
    "    plt.plot(bt.balance['Date'], bt.balance['Total'], label = bt.name ,color = 'blue')\n",
    "    plt.plot(ma_cross_bt.balance['Date'], ma_cross_bt.balance['Total'], label = ma_cross_bt.name, color = 'red')\n",
    "    plt.plot(naa200r_threshold_bt.balance['Date'], naa200r_threshold_bt.balance['Total'], label = naa200r_threshold_bt.name, color = 'green')\n",
    "    plt.plot(naa200r_threshold_bt_2.balance['Date'], naa200r_threshold_bt_2.balance['Total'], label = naa200r_threshold_bt_2.name)\n",
    "    plt.plot(ma_threshold_bt.balance['Date'], ma_threshold_bt.balance['Total'], label = ma_threshold_bt.name)\n",
    "    plt.plot(ma_threshold2_bt.balance['Date'], ma_threshold2_bt.balance['Total'], label = ma_threshold2_bt.name)\n",
    "    plt.plot(WeeklyMAThreshold_bt.balance['Date'], WeeklyMAThreshold_bt.balance['Total'], label = WeeklyMAThreshold_bt.name)\n",
    " \n",
    "    plt.legend()\n",
    "    plt.title('Backtesting for {}'.format(ticker.ticker))\n",
    "    plt.show()\n",
    "\n",
    "\n",
    "    for strategy in [bt,ma_cross_bt,naa200r_threshold_bt, naa200r_threshold_bt_2, ma_threshold_bt, ma_threshold2_bt, WeeklyMAThreshold_bt]:\n",
    "        perf_summary = pd.concat([perf_summary, strategy.summary_result])\n",
    "        \n",
    "    return perf_summary\n"
   ]
  },
  {
   "cell_type": "code",
   "execution_count": null,
   "metadata": {
    "tags": []
   },
   "outputs": [],
   "source": [
    "test_start = dt.datetime(2002,1,1)\n",
    "test_end = dt.datetime(2023,3,1)\n",
    "\n",
    "perf_summary = backtestAll(qqq, qqq, test_start, test_end, verbose = False)\n",
    "display(perf_summary)"
   ]
  },
  {
   "cell_type": "code",
   "execution_count": null,
   "metadata": {
    "tags": []
   },
   "outputs": [],
   "source": [
    "test_start = dt.datetime(2010,3,1)\n",
    "test_end = dt.datetime(2023,3,1)\n",
    "perf_summary = backtestAll(qld, qqq, test_start, test_end, verbose = False)\n",
    "display(perf_summary)"
   ]
  },
  {
   "cell_type": "code",
   "execution_count": null,
   "metadata": {},
   "outputs": [],
   "source": [
    "test_start = dt.datetime(2011,3,1)\n",
    "test_end = dt.datetime(2023,3,1)\n",
    "perf_summary = backtestAll(tqqq, qqq, test_start, test_end, verbose = False)\n",
    "display(perf_summary)"
   ]
  },
  {
   "cell_type": "code",
   "execution_count": null,
   "metadata": {},
   "outputs": [],
   "source": [
    "test_start = dt.datetime(2002,1,1)\n",
    "test_end = dt.datetime(2023,3,1)\n",
    "\n",
    "perf_summary = backtestAll(qqq, qqq, test_start, test_end, verbose = False, weekly_buy=True, weekly_sell=True)\n",
    "display(perf_summary)\n"
   ]
  },
  {
   "cell_type": "code",
   "execution_count": null,
   "metadata": {},
   "outputs": [],
   "source": [
    "test_start = dt.datetime(2010,3,1)\n",
    "test_end = dt.datetime(2023,3,1)\n",
    "perf_summary = backtestAll(qld, qqq, test_start, test_end, verbose = False, weekly_buy=True, weekly_sell=False)\n",
    "display(perf_summary)"
   ]
  },
  {
   "cell_type": "code",
   "execution_count": null,
   "metadata": {},
   "outputs": [],
   "source": [
    "test_start = dt.datetime(2011,3,1)\n",
    "test_end = dt.datetime(2023,3,1)\n",
    "perf_summary = backtestAll(tqqq, qqq, test_start, test_end, verbose = False, weekly_buy = True, weekly_sell = False)\n",
    "display(perf_summary)"
   ]
  }
 ],
 "metadata": {
  "kernelspec": {
   "display_name": "Python 3 (ipykernel)",
   "language": "python",
   "name": "python3"
  },
  "language_info": {
   "codemirror_mode": {
    "name": "ipython",
    "version": 3
   },
   "file_extension": ".py",
   "mimetype": "text/x-python",
   "name": "python",
   "nbconvert_exporter": "python",
   "pygments_lexer": "ipython3",
   "version": "3.10.9"
  },
  "vscode": {
   "interpreter": {
    "hash": "3ad933181bd8a04b432d3370b9dc3b0662ad032c4dfaa4e4f1596c548f763858"
   }
  }
 },
 "nbformat": 4,
 "nbformat_minor": 4
}
