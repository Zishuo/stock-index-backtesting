{
 "cells": [
  {
   "cell_type": "code",
   "execution_count": null,
   "metadata": {},
   "outputs": [],
   "source": [
    "import yfinance as yf\n",
    "import pandas as pd\n",
    "\n",
    "# get earnings dates from stock in specific period\n",
    "# stock: stock symbol\n",
    "# limit: number of earnings dates to return\n",
    "# start： start date\n",
    "# end: end date\n",
    "# return: list of earnings dates\n",
    "def get_earnings_dates(stock, limit=200, start=\"2000-01-01\", end=\"2023-11-12\"):\n",
    "    ticker = yf.Ticker(stock)\n",
    "    earnings = ticker.get_earnings_dates(limit=limit)\n",
    "    if earnings is None:\n",
    "        return []\n",
    "    else:\n",
    "        print(earnings)\n",
    "    earnings = earnings[(earnings.index >= start) & (earnings.index <= end)]\n",
    "    return earnings\n",
    "\n",
    "#09-10 winner： nflx, regn, bkng, fosl, aapl, ulta, tdg, apkt, dpz, jazz, crox, bidu\n",
    "w0910 = [\"nflx\", \"regn\", \"bkng\", \"fosl\", \"aapl\", \"ulta\", \"tdg\", \"apkt\", \"dpz\", \"jazz\", \"crox\", \"bidu\"]\n",
    "#13-14 winner: hbi, adbe, yy, tsla, emes, skx, bita\n",
    "w1314 = [\"hbi\", \"adbe\", \"yy\", \"tsla\", \"emes\", \"skx\", \"bita\"]\n",
    "#make the w1314 in big letters\n",
    "w1314 = [x.upper() for x in w1314]\n",
    "#make the w0910 in big letters\n",
    "w0910 = [x.upper() for x in w0910]\n",
    "\n",
    "w2023 = ['NVDA', 'ELF', 'ULTA', 'DECK','']\n",
    "stock_symbols = ['APKT', 'ADBE', 'AYX', 'AAPL', 'TEAM', 'AXON', 'BITA', 'BKNG', 'CF', 'CME',\n",
    "                 'COUP', 'DPZ', 'BOOM', 'EMES', 'ERES', 'EXAS', 'FSLR', 'FIVN', 'FVRR', 'FOSL',\n",
    "                 'HBI', 'HTHT', 'IIPR', 'ISRG', 'JAZZ', 'YY', 'MTCH', 'MED', 'MNST', 'MOS',\n",
    "                 'NFLX', 'NIO', 'NVCR', 'NVDA', 'OKTA', 'PAYC', 'REGN', 'BBRY', 'RNG', 'SGMS',\n",
    "                 'SE', 'SHOP', 'SKX', 'SEDG', 'SQ', 'TAL', 'TSLA', 'TIE', 'TTD', 'TDG', 'ULTA',\n",
    "                 'VEEV', 'WB', 'WW', 'ZM']\n",
    "w2006 = [\"TAL\", \"NVDA\", \"TEAM\", \"FIVN\", \"WB\", \"VEEV\", \"EXAS\", \"MTCH\", \"SHOP\", \"SQ\", \"MOS\", \"CF\", \"FSLR\"]\n",
    "\n",
    "wCeceil = ['BLDR', 'DECK', 'LNG', 'NETS', 'ALGN', 'EBAY', 'SWN','ENPH', 'CELH', 'EBAY']\n",
    "for stock in wCeceil:\n",
    "\n",
    "    dates = get_earnings_dates(stock)\n",
    "    print(type(dates.index))\n",
    "    if dates is None:\n",
    "        print(\"No earnings dates for \" + stock)\n",
    "        continue\n",
    "    else:\n",
    "        print(stock)\n",
    "    pd.DataFrame(dates).to_csv(\"./earnings/\"+stock + \".csv\")\n",
    "\n",
    "\n",
    "\n"
   ]
  }
 ],
 "metadata": {
  "kernelspec": {
   "display_name": "rapids-23.02",
   "language": "python",
   "name": "python3"
  },
  "language_info": {
   "codemirror_mode": {
    "name": "ipython",
    "version": 3
   },
   "file_extension": ".py",
   "mimetype": "text/x-python",
   "name": "python",
   "nbconvert_exporter": "python",
   "pygments_lexer": "ipython3",
   "version": "3.10.12"
  },
  "orig_nbformat": 4
 },
 "nbformat": 4,
 "nbformat_minor": 2
}
