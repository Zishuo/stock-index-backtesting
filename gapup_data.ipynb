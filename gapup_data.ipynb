{
 "cells": [
  {
   "cell_type": "code",
   "execution_count": 3,
   "metadata": {},
   "outputs": [
    {
     "name": "stderr",
     "output_type": "stream",
     "text": [
      "/home/zishuowang/.local/lib/python3.10/site-packages/yfinance/base.py:2093: FutureWarning: Passing literal html to 'read_html' is deprecated and will be removed in a future version. To read from a literal string, wrap it in a 'StringIO' object.\n",
      "  data = pd.read_html(data)[0]\n"
     ]
    },
    {
     "name": "stdout",
     "output_type": "stream",
     "text": [
      "                           EPS Estimate  Reported EPS  Surprise(%)\n",
      "Earnings Date                                                     \n",
      "2024-10-30 09:00:00-04:00           NaN           NaN          NaN\n",
      "2024-07-31 08:00:00-04:00           NaN           NaN          NaN\n",
      "2024-05-01 08:00:00-04:00           NaN           NaN          NaN\n",
      "2024-02-26 08:00:00-05:00          2.46           NaN          NaN\n",
      "2023-11-01 03:00:00-04:00          3.73          4.24       0.1381\n",
      "...                                 ...           ...          ...\n",
      "2006-10-26 00:00:00-04:00          0.72          0.60      -0.1617\n",
      "2006-07-27 00:00:00-04:00          0.75          0.79       0.0513\n",
      "2006-04-26 00:00:00-04:00          0.37          0.54       0.4516\n",
      "2006-02-23 00:00:00-05:00          0.48          0.56       0.1789\n",
      "2005-10-27 00:00:00-04:00          0.63          0.80       0.2766\n",
      "\n",
      "[77 rows x 3 columns]\n",
      "<class 'pandas.core.indexes.datetimes.DatetimeIndex'>\n",
      "BLDR\n"
     ]
    },
    {
     "name": "stderr",
     "output_type": "stream",
     "text": [
      "/home/zishuowang/.local/lib/python3.10/site-packages/yfinance/base.py:2093: FutureWarning: Passing literal html to 'read_html' is deprecated and will be removed in a future version. To read from a literal string, wrap it in a 'StringIO' object.\n",
      "  data = pd.read_html(data)[0]\n",
      "/home/zishuowang/.local/lib/python3.10/site-packages/yfinance/base.py:2093: FutureWarning: Passing literal html to 'read_html' is deprecated and will be removed in a future version. To read from a literal string, wrap it in a 'StringIO' object.\n",
      "  data = pd.read_html(data)[0]\n"
     ]
    },
    {
     "name": "stdout",
     "output_type": "stream",
     "text": [
      "                           EPS Estimate  Reported EPS  Surprise(%)\n",
      "Earnings Date                                                     \n",
      "2024-10-24 06:00:00-04:00           NaN           NaN          NaN\n",
      "2024-07-25 06:00:00-04:00           NaN           NaN          NaN\n",
      "2024-05-23 06:00:00-04:00           NaN           NaN          NaN\n",
      "2024-01-31 05:00:00-05:00         10.99           NaN          NaN\n",
      "2023-10-26 12:00:00-04:00          4.43          6.82       0.5382\n",
      "...                                 ...           ...          ...\n",
      "1995-02-21 00:00:00-05:00          0.03          0.04       0.2681\n",
      "1994-11-07 00:00:00-05:00          0.05          0.05       0.0213\n",
      "1994-07-28 00:00:00-04:00          0.12          0.14       0.1352\n",
      "1994-05-05 00:00:00-04:00          0.13          0.14       0.0909\n",
      "1994-02-25 00:00:00-05:00          0.04          0.05       0.1668\n",
      "\n",
      "[115 rows x 3 columns]\n",
      "<class 'pandas.core.indexes.datetimes.DatetimeIndex'>\n",
      "DECK\n"
     ]
    },
    {
     "name": "stderr",
     "output_type": "stream",
     "text": [
      "/home/zishuowang/.local/lib/python3.10/site-packages/yfinance/base.py:2093: FutureWarning: Passing literal html to 'read_html' is deprecated and will be removed in a future version. To read from a literal string, wrap it in a 'StringIO' object.\n",
      "  data = pd.read_html(data)[0]\n"
     ]
    },
    {
     "name": "stdout",
     "output_type": "stream",
     "text": [
      "                           EPS Estimate  Reported EPS  Surprise(%)\n",
      "Earnings Date                                                     \n",
      "2024-10-31 08:00:00-04:00           NaN           NaN          NaN\n",
      "2024-08-01 08:00:00-04:00           NaN           NaN          NaN\n",
      "2024-04-30 08:00:00-04:00           NaN           NaN          NaN\n",
      "2024-02-21 08:00:00-05:00          2.72           NaN          NaN\n",
      "2023-11-02 02:00:00-04:00          2.53          7.03       1.7772\n",
      "...                                 ...           ...          ...\n",
      "2005-11-04 00:00:00-05:00         -0.28         -0.23       0.1901\n",
      "2005-08-05 00:00:00-04:00         -0.21         -0.18       0.1628\n",
      "2005-05-06 00:00:00-04:00         -0.22         -0.16       0.2727\n",
      "1999-11-09 00:00:00-05:00          0.13           NaN      -1.0385\n",
      "1999-08-17 00:00:00-04:00          0.10         -0.01      -1.1000\n",
      "\n",
      "[78 rows x 3 columns]\n",
      "<class 'pandas.core.indexes.datetimes.DatetimeIndex'>\n",
      "LNG\n"
     ]
    },
    {
     "name": "stderr",
     "output_type": "stream",
     "text": [
      "/home/zishuowang/.local/lib/python3.10/site-packages/yfinance/base.py:2093: FutureWarning: Passing literal html to 'read_html' is deprecated and will be removed in a future version. To read from a literal string, wrap it in a 'StringIO' object.\n",
      "  data = pd.read_html(data)[0]\n",
      "NETS: No earnings dates found, symbol may be delisted\n"
     ]
    },
    {
     "name": "stdout",
     "output_type": "stream",
     "text": [
      "<class 'builtin_function_or_method'>\n",
      "NETS\n"
     ]
    },
    {
     "name": "stderr",
     "output_type": "stream",
     "text": [
      "/home/zishuowang/.local/lib/python3.10/site-packages/yfinance/base.py:2093: FutureWarning: Passing literal html to 'read_html' is deprecated and will be removed in a future version. To read from a literal string, wrap it in a 'StringIO' object.\n",
      "  data = pd.read_html(data)[0]\n"
     ]
    },
    {
     "name": "stdout",
     "output_type": "stream",
     "text": [
      "                           EPS Estimate  Reported EPS  Surprise(%)\n",
      "Earnings Date                                                     \n",
      "2024-10-23 06:00:00-04:00           NaN           NaN          NaN\n",
      "2024-07-24 06:00:00-04:00           NaN           NaN          NaN\n",
      "2024-04-24 06:00:00-04:00           NaN           NaN          NaN\n",
      "2024-01-30 16:00:00-05:00          2.18           NaN          NaN\n",
      "2024-01-30 05:00:00-05:00          2.18           NaN          NaN\n",
      "...                                 ...           ...          ...\n",
      "2002-04-24 00:00:00-04:00         -0.35         -0.28       0.2113\n",
      "2002-02-12 00:00:00-05:00         -0.44         -0.33       0.2584\n",
      "2001-10-22 00:00:00-04:00         -0.43         -0.38       0.1163\n",
      "2001-07-25 00:00:00-04:00         -0.53         -0.35       0.3396\n",
      "2001-04-26 00:00:00-04:00         -0.66         -0.73      -0.1061\n",
      "\n",
      "[96 rows x 3 columns]\n",
      "<class 'pandas.core.indexes.datetimes.DatetimeIndex'>\n",
      "ALGN\n"
     ]
    },
    {
     "name": "stderr",
     "output_type": "stream",
     "text": [
      "/home/zishuowang/.local/lib/python3.10/site-packages/yfinance/base.py:2093: FutureWarning: Passing literal html to 'read_html' is deprecated and will be removed in a future version. To read from a literal string, wrap it in a 'StringIO' object.\n",
      "  data = pd.read_html(data)[0]\n",
      "/home/zishuowang/.local/lib/python3.10/site-packages/yfinance/base.py:2093: FutureWarning: Passing literal html to 'read_html' is deprecated and will be removed in a future version. To read from a literal string, wrap it in a 'StringIO' object.\n",
      "  data = pd.read_html(data)[0]\n"
     ]
    },
    {
     "name": "stdout",
     "output_type": "stream",
     "text": [
      "                           EPS Estimate  Reported EPS  Surprise(%)\n",
      "Earnings Date                                                     \n",
      "2024-11-05 16:00:00-05:00           NaN           NaN          NaN\n",
      "2024-07-24 06:00:00-04:00           NaN           NaN          NaN\n",
      "2024-04-24 06:00:00-04:00           NaN           NaN          NaN\n",
      "2024-02-20 16:00:00-05:00          1.02           NaN          NaN\n",
      "2024-02-20 05:00:00-05:00          1.02           NaN          NaN\n",
      "...                                 ...           ...          ...\n",
      "1999-10-26 00:00:00-04:00           NaN           NaN       0.7241\n",
      "1999-07-26 00:00:00-04:00           NaN          0.01       0.2626\n",
      "1999-04-26 00:00:00-04:00           NaN          0.01       3.2067\n",
      "1999-01-26 00:00:00-05:00           NaN           NaN       0.9597\n",
      "1998-10-27 00:00:00-05:00           NaN           NaN       0.6640\n",
      "\n",
      "[106 rows x 3 columns]\n",
      "<class 'pandas.core.indexes.datetimes.DatetimeIndex'>\n",
      "EBAY\n"
     ]
    },
    {
     "name": "stderr",
     "output_type": "stream",
     "text": [
      "/home/zishuowang/.local/lib/python3.10/site-packages/yfinance/base.py:2093: FutureWarning: Passing literal html to 'read_html' is deprecated and will be removed in a future version. To read from a literal string, wrap it in a 'StringIO' object.\n",
      "  data = pd.read_html(data)[0]\n",
      "/home/zishuowang/.local/lib/python3.10/site-packages/yfinance/base.py:2093: FutureWarning: Passing literal html to 'read_html' is deprecated and will be removed in a future version. To read from a literal string, wrap it in a 'StringIO' object.\n",
      "  data = pd.read_html(data)[0]\n"
     ]
    },
    {
     "name": "stdout",
     "output_type": "stream",
     "text": [
      "                           EPS Estimate  Reported EPS  Surprise(%)\n",
      "Earnings Date                                                     \n",
      "2024-10-31 06:00:00-04:00           NaN           NaN          NaN\n",
      "2024-08-01 06:00:00-04:00           NaN           NaN          NaN\n",
      "2024-04-25 06:00:00-04:00           NaN           NaN          NaN\n",
      "2024-02-21 16:00:00-05:00          0.15           NaN          NaN\n",
      "2024-02-21 05:00:00-05:00          0.15           NaN          NaN\n",
      "...                                 ...           ...          ...\n",
      "1994-02-07 00:00:00-05:00          0.05          0.05      -0.0049\n",
      "1993-10-27 00:00:00-04:00          0.01          0.02       0.1321\n",
      "1993-07-28 00:00:00-04:00          0.01          0.02       0.4752\n",
      "1993-04-27 00:00:00-04:00          0.05          0.06       0.1158\n",
      "1993-02-08 00:00:00-05:00          0.04          0.05       0.1472\n",
      "\n",
      "[132 rows x 3 columns]\n",
      "<class 'pandas.core.indexes.datetimes.DatetimeIndex'>\n",
      "SWN\n"
     ]
    },
    {
     "name": "stderr",
     "output_type": "stream",
     "text": [
      "/home/zishuowang/.local/lib/python3.10/site-packages/yfinance/base.py:2093: FutureWarning: Passing literal html to 'read_html' is deprecated and will be removed in a future version. To read from a literal string, wrap it in a 'StringIO' object.\n",
      "  data = pd.read_html(data)[0]\n"
     ]
    },
    {
     "name": "stdout",
     "output_type": "stream",
     "text": [
      "                           EPS Estimate  Reported EPS  Surprise(%)\n",
      "Earnings Date                                                     \n",
      "2024-10-24 06:00:00-04:00           NaN           NaN          NaN\n",
      "2024-07-25 06:00:00-04:00           NaN           NaN          NaN\n",
      "2024-04-23 06:00:00-04:00           NaN           NaN          NaN\n",
      "2024-02-05 16:00:00-05:00          0.59           NaN          NaN\n",
      "2024-02-05 05:00:00-05:00          0.59           NaN          NaN\n",
      "2023-10-26 12:00:00-04:00          1.01          1.02       0.0072\n",
      "2023-07-27 12:00:00-04:00          1.25          1.47       0.1761\n",
      "2023-04-25 12:00:00-04:00          1.21          1.37       0.1306\n",
      "2023-02-07 11:00:00-05:00          1.25          1.51       0.2128\n",
      "2022-10-25 12:00:00-04:00          1.08          1.25       0.1572\n",
      "2022-07-26 12:00:00-04:00          0.84          1.07       0.2773\n",
      "2022-04-26 12:00:00-04:00          0.67          0.79       0.1856\n",
      "2022-02-08 11:00:00-05:00          0.58          0.73       0.2623\n",
      "2021-10-26 12:00:00-04:00          0.48          0.60       0.2429\n",
      "2021-07-27 12:00:00-04:00          0.43          0.53       0.2389\n",
      "2021-04-27 12:00:00-04:00          0.45          0.56       0.2521\n",
      "2021-02-09 11:00:00-05:00          0.40          0.51       0.2605\n",
      "2020-10-27 12:00:00-04:00          0.24          0.30       0.2452\n",
      "2020-08-04 12:00:00-04:00          0.14          0.17       0.1724\n",
      "2020-05-05 12:00:00-04:00          0.32          0.38       0.2012\n",
      "2020-02-18 11:00:00-05:00          0.33          0.39       0.1798\n",
      "2019-10-29 12:00:00-04:00          0.25          0.30       0.1899\n",
      "2019-07-30 12:00:00-04:00          0.13          0.18       0.4110\n",
      "2019-04-30 12:00:00-04:00          0.05          0.08       0.5686\n",
      "2019-02-26 11:00:00-05:00          0.06          0.04      -0.3103\n",
      "2018-11-06 13:00:00-05:00          0.04          0.04       0.1111\n",
      "2018-07-31 12:00:00-04:00          0.01          0.02       2.5026\n",
      "2018-05-01 12:00:00-04:00         -0.03         -0.01       0.7000\n",
      "2018-02-27 11:00:00-05:00         -0.01          0.01       2.2500\n",
      "2017-11-07 11:00:00-05:00         -0.05         -0.01       0.7857\n",
      "2017-08-08 13:00:00-04:00         -0.07         -0.08      -0.0667\n",
      "2017-05-09 13:00:00-04:00         -0.14         -0.18      -0.3235\n",
      "2017-02-28 11:00:00-05:00         -0.12         -0.15      -0.2209\n",
      "2016-11-01 12:00:00-04:00         -0.24         -0.28      -0.1586\n",
      "2016-08-02 12:00:00-04:00         -0.27         -0.30      -0.0959\n",
      "2016-05-03 12:00:00-04:00         -0.31         -0.34      -0.0968\n",
      "2016-02-23 11:00:00-05:00         -0.22         -0.25      -0.1261\n",
      "2015-11-03 11:00:00-05:00          0.03          0.08       1.5949\n",
      "2015-08-04 12:00:00-04:00          0.01          0.06       3.1237\n",
      "2015-05-05 12:00:00-04:00         -0.08         -0.07       0.1445\n",
      "2015-02-17 11:00:00-05:00          0.03          0.07       1.5000\n",
      "2014-11-04 11:00:00-05:00          0.07          0.08       0.2203\n",
      "2014-08-05 00:00:00-04:00         -0.02         -0.01       0.5556\n",
      "2014-05-06 00:00:00-04:00         -0.13         -0.10       0.2308\n",
      "2014-02-18 00:00:00-05:00         -0.03         -0.02       0.3685\n",
      "2013-11-05 00:00:00-05:00         -0.09         -0.09       0.0526\n",
      "2013-08-06 00:00:00-04:00         -0.13         -0.12       0.0886\n",
      "2013-05-07 00:00:00-04:00         -0.23         -0.21       0.0870\n",
      "2013-02-26 00:00:00-05:00         -0.19         -0.12       0.3793\n",
      "2012-11-07 00:00:00-05:00         -0.20         -0.18       0.1075\n",
      "2012-08-07 00:00:00-04:00         -0.32         -0.19       0.4016\n",
      "<class 'pandas.core.indexes.datetimes.DatetimeIndex'>\n",
      "ENPH\n"
     ]
    },
    {
     "name": "stderr",
     "output_type": "stream",
     "text": [
      "/home/zishuowang/.local/lib/python3.10/site-packages/yfinance/base.py:2093: FutureWarning: Passing literal html to 'read_html' is deprecated and will be removed in a future version. To read from a literal string, wrap it in a 'StringIO' object.\n",
      "  data = pd.read_html(data)[0]\n"
     ]
    },
    {
     "name": "stdout",
     "output_type": "stream",
     "text": [
      "                           EPS Estimate  Reported EPS  Surprise(%)\n",
      "Earnings Date                                                     \n",
      "2024-11-05 08:00:00-05:00           NaN           NaN          NaN\n",
      "2024-08-06 06:00:00-04:00           NaN           NaN          NaN\n",
      "2024-05-07 06:00:00-04:00           NaN           NaN          NaN\n",
      "2024-02-28 16:00:00-05:00          0.16           NaN          NaN\n",
      "2024-02-28 05:00:00-05:00          0.16           NaN          NaN\n",
      "2023-11-07 01:00:00-05:00          0.16          0.30       0.8063\n",
      "2023-08-08 12:00:00-04:00          0.28          0.52       0.8407\n",
      "2023-05-09 12:00:00-04:00          0.20          0.40       0.9560\n",
      "2023-03-01 11:00:00-05:00         -0.10         -0.37      -2.5349\n",
      "2022-11-09 11:00:00-05:00         -0.11         -0.41      -2.7914\n",
      "2022-08-09 12:00:00-04:00          0.08          0.12       0.4359\n",
      "2022-05-10 12:00:00-04:00          0.03          0.09       2.3873\n",
      "2022-03-01 11:00:00-05:00          0.04          0.15       2.7908\n",
      "2021-11-11 03:00:00-05:00          0.07          0.03      -0.5413\n",
      "2021-08-12 04:00:00-04:00          0.02          0.05       1.1053\n",
      "2021-05-13 04:00:00-04:00          0.01          0.01       0.1429\n",
      "2021-03-11 03:00:00-05:00          0.03          0.02      -0.2000\n",
      "2020-11-12 03:00:00-05:00          0.02          0.06       2.0000\n",
      "2020-08-06 04:00:00-04:00         -0.01          0.02       3.0000\n",
      "2020-05-12 04:00:00-04:00         -0.01          0.01       2.3333\n",
      "2020-03-12 04:00:00-04:00         -0.01         -0.02      -1.0000\n",
      "2019-11-07 03:00:00-05:00         -0.02          0.03       2.7996\n",
      "2019-08-08 04:00:00-04:00         -0.02         -0.03      -0.7996\n",
      "2019-05-09 04:00:00-04:00         -0.03         -0.01       0.6667\n",
      "2019-03-14 04:00:00-04:00         -0.05         -0.01       0.8125\n",
      "2018-11-08 11:00:00-05:00         -0.04         -0.08      -1.1816\n",
      "2018-08-09 12:00:00-04:00         -0.04         -0.05      -0.2500\n",
      "2018-05-10 12:00:00-04:00         -0.06         -0.06      -0.0588\n",
      "2018-03-08 11:00:00-05:00         -0.05         -0.12      -1.4000\n",
      "2017-11-08 11:00:00-05:00           NaN         -0.04          NaN\n",
      "2017-08-09 06:00:00-04:00           NaN           NaN          NaN\n",
      "2017-05-11 06:00:00-04:00           NaN           NaN          NaN\n",
      "2017-03-30 05:00:00-04:00           NaN           NaN          NaN\n",
      "2016-11-10 04:00:00-05:00           NaN           NaN          NaN\n",
      "2016-07-22 05:00:00-04:00           NaN           NaN          NaN\n",
      "2010-11-10 11:00:00-05:00         -0.24         -0.27      -0.1250\n",
      "2010-08-12 04:00:00-04:00         -0.22         -0.16       0.2727\n",
      "2010-05-13 04:00:00-04:00         -0.23         -0.40      -0.7391\n",
      "2010-03-04 03:00:00-05:00         -0.40         -0.30       0.2500\n",
      "2009-11-07 03:00:00-05:00         -0.20         -0.40      -1.0000\n",
      "2009-08-15 06:00:00-04:00           NaN           NaN          NaN\n",
      "2009-05-15 06:00:00-04:00           NaN           NaN          NaN\n",
      "2009-02-16 05:00:00-05:00           NaN           NaN          NaN\n",
      "<class 'pandas.core.indexes.datetimes.DatetimeIndex'>\n",
      "CELH\n"
     ]
    },
    {
     "name": "stderr",
     "output_type": "stream",
     "text": [
      "/home/zishuowang/.local/lib/python3.10/site-packages/yfinance/base.py:2093: FutureWarning: Passing literal html to 'read_html' is deprecated and will be removed in a future version. To read from a literal string, wrap it in a 'StringIO' object.\n",
      "  data = pd.read_html(data)[0]\n"
     ]
    },
    {
     "name": "stdout",
     "output_type": "stream",
     "text": [
      "                           EPS Estimate  Reported EPS  Surprise(%)\n",
      "Earnings Date                                                     \n",
      "2024-11-05 16:00:00-05:00           NaN           NaN          NaN\n",
      "2024-07-24 06:00:00-04:00           NaN           NaN          NaN\n",
      "2024-04-24 06:00:00-04:00           NaN           NaN          NaN\n",
      "2024-02-20 16:00:00-05:00          1.02           NaN          NaN\n",
      "2024-02-20 05:00:00-05:00          1.02           NaN          NaN\n",
      "...                                 ...           ...          ...\n",
      "1999-10-26 00:00:00-04:00           NaN           NaN       0.7241\n",
      "1999-07-26 00:00:00-04:00           NaN          0.01       0.2626\n",
      "1999-04-26 00:00:00-04:00           NaN          0.01       3.2067\n",
      "1999-01-26 00:00:00-05:00           NaN           NaN       0.9597\n",
      "1998-10-27 00:00:00-05:00           NaN           NaN       0.6640\n",
      "\n",
      "[106 rows x 3 columns]\n",
      "<class 'pandas.core.indexes.datetimes.DatetimeIndex'>\n",
      "EBAY\n"
     ]
    },
    {
     "name": "stderr",
     "output_type": "stream",
     "text": [
      "/home/zishuowang/.local/lib/python3.10/site-packages/yfinance/base.py:2093: FutureWarning: Passing literal html to 'read_html' is deprecated and will be removed in a future version. To read from a literal string, wrap it in a 'StringIO' object.\n",
      "  data = pd.read_html(data)[0]\n"
     ]
    }
   ],
   "source": [
    "import yfinance as yf\n",
    "import pandas as pd\n",
    "\n",
    "# get earnings dates from stock in specific period\n",
    "# stock: stock symbol\n",
    "# limit: number of earnings dates to return\n",
    "# start： start date\n",
    "# end: end date\n",
    "# return: list of earnings dates\n",
    "def get_earnings_dates(stock, limit=200, start=\"2000-01-01\", end=\"2023-11-12\"):\n",
    "    ticker = yf.Ticker(stock)\n",
    "    earnings = ticker.get_earnings_dates(limit=limit)\n",
    "    if earnings is None:\n",
    "        return []\n",
    "    else:\n",
    "        print(earnings)\n",
    "    earnings = earnings[(earnings.index >= start) & (earnings.index <= end)]\n",
    "    return earnings\n",
    "\n",
    "#09-10 winner： nflx, regn, bkng, fosl, aapl, ulta, tdg, apkt, dpz, jazz, crox, bidu\n",
    "w0910 = [\"nflx\", \"regn\", \"bkng\", \"fosl\", \"aapl\", \"ulta\", \"tdg\", \"apkt\", \"dpz\", \"jazz\", \"crox\", \"bidu\"]\n",
    "#13-14 winner: hbi, adbe, yy, tsla, emes, skx, bita\n",
    "w1314 = [\"hbi\", \"adbe\", \"yy\", \"tsla\", \"emes\", \"skx\", \"bita\"]\n",
    "#make the w1314 in big letters\n",
    "w1314 = [x.upper() for x in w1314]\n",
    "#make the w0910 in big letters\n",
    "w0910 = [x.upper() for x in w0910]\n",
    "\n",
    "w2023 = ['NVDA', 'ELF', 'ULTA', 'DECK','']\n",
    "stock_symbols = ['APKT', 'ADBE', 'AYX', 'AAPL', 'TEAM', 'AXON', 'BITA', 'BKNG', 'CF', 'CME',\n",
    "                 'COUP', 'DPZ', 'BOOM', 'EMES', 'ERES', 'EXAS', 'FSLR', 'FIVN', 'FVRR', 'FOSL',\n",
    "                 'HBI', 'HTHT', 'IIPR', 'ISRG', 'JAZZ', 'YY', 'MTCH', 'MED', 'MNST', 'MOS',\n",
    "                 'NFLX', 'NIO', 'NVCR', 'NVDA', 'OKTA', 'PAYC', 'REGN', 'BBRY', 'RNG', 'SGMS',\n",
    "                 'SE', 'SHOP', 'SKX', 'SEDG', 'SQ', 'TAL', 'TSLA', 'TIE', 'TTD', 'TDG', 'ULTA',\n",
    "                 'VEEV', 'WB', 'WW', 'ZM']\n",
    "w2006 = [\"TAL\", \"NVDA\", \"TEAM\", \"FIVN\", \"WB\", \"VEEV\", \"EXAS\", \"MTCH\", \"SHOP\", \"SQ\", \"MOS\", \"CF\", \"FSLR\"]\n",
    "\n",
    "wCeceil = ['BLDR', 'DECK', 'LNG', 'NETS', 'ALGN', 'EBAY', 'SWN','ENPH', 'CELH', 'EBAY']\n",
    "for stock in wCeceil:\n",
    "\n",
    "    dates = get_earnings_dates(stock)\n",
    "    print(type(dates.index))\n",
    "    if dates is None:\n",
    "        print(\"No earnings dates for \" + stock)\n",
    "        continue\n",
    "    else:\n",
    "        print(stock)\n",
    "    pd.DataFrame(dates).to_csv(\"./earnings/\"+stock + \".csv\")\n",
    "\n",
    "\n",
    "\n"
   ]
  }
 ],
 "metadata": {
  "kernelspec": {
   "display_name": "rapids-23.02",
   "language": "python",
   "name": "python3"
  },
  "language_info": {
   "codemirror_mode": {
    "name": "ipython",
    "version": 3
   },
   "file_extension": ".py",
   "mimetype": "text/x-python",
   "name": "python",
   "nbconvert_exporter": "python",
   "pygments_lexer": "ipython3",
   "version": "3.10.12"
  },
  "orig_nbformat": 4
 },
 "nbformat": 4,
 "nbformat_minor": 2
}
