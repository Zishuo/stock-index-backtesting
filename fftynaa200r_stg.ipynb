{
 "cells": [
  {
   "cell_type": "code",
   "execution_count": null,
   "metadata": {},
   "outputs": [
    {
     "ename": "",
     "evalue": "",
     "output_type": "error",
     "traceback": [
      "\u001b[1;31mFailed to start the Kernel. \n",
      "\u001b[1;31mTraceback (most recent call last):\n",
      "\u001b[1;31m  File \"/usr/lib/python3.8/runpy.py\", line 194, in _run_module_as_main\n",
      "\u001b[1;31m    return _run_code(code, main_globals, None,\n",
      "\u001b[1;31m  File \"/usr/lib/python3.8/runpy.py\", line 87, in _run_code\n",
      "\u001b[1;31m    exec(code, run_globals)\n",
      "\u001b[1;31m  File \"/home/zishuowang/.local/lib/python3.8/site-packages/ipykernel_launcher.py\", line 15, in <module>\n",
      "\u001b[1;31m    from ipykernel import kernelapp as app\n",
      "\u001b[1;31m  File \"/home/zishuowang/.local/lib/python3.8/site-packages/ipykernel/kernelapp.py\", line 19, in <module>\n",
      "\u001b[1;31m    from IPython.core.application import (  # type:ignore[attr-defined]\n",
      "\u001b[1;31m  File \"/home/zishuowang/.local/lib/python3.8/site-packages/IPython/__init__.py\", line 30, in <module>\n",
      "\u001b[1;31m    raise ImportError(\n",
      "\u001b[1;31mImportError: \n",
      "\u001b[1;31mIPython 8.13+ supports Python 3.9 and above, following NEP 29.\n",
      "\u001b[1;31mIPython 8.0-8.12 supports Python 3.8 and above, following NEP 29.\n",
      "\u001b[1;31mWhen using Python 2.7, please install IPython 5.x LTS Long Term Support version.\n",
      "\u001b[1;31mPython 3.3 and 3.4 were supported up to IPython 6.x.\n",
      "\u001b[1;31mPython 3.5 was supported with IPython 7.0 to 7.9.\n",
      "\u001b[1;31mPython 3.6 was supported with IPython up to 7.16.\n",
      "\u001b[1;31mPython 3.7 was still supported with the 7.x branch.\n",
      "\u001b[1;31m\n",
      "\u001b[1;31mSee IPython `README.rst` file for more information:\n",
      "\u001b[1;31m\n",
      "\u001b[1;31m    https://github.com/ipython/ipython/blob/main/README.rst. \n",
      "\u001b[1;31mView Jupyter <a href='command:jupyter.viewOutput'>log</a> for further details."
     ]
    }
   ],
   "source": [
    "import Ab as ab\n",
    "import datetime as dt\n",
    "import pandas as pd\n",
    "#use east coast time zone\n",
    "#sd = dt.datetime(2018,12,28) - dt.timedelta(days=7*14)\n",
    "#ed = dt.datetime(2019,12,31) + dt.timedelta(days=1)\n",
    "#sd = dt.datetime(2020,1,3) - dt.timedelta(days=7*15)\n",
    "#ed = dt.datetime(2020,12,31) + dt.timedelta(days=1)\n",
    "#sd = dt.datetime(2021,1,1) - dt.timedelta(days=7*15)\n",
    "#ed = dt.datetime(2021,12,31) + dt.timedelta(days=1)\n",
    "sd = dt.datetime(2015,3,3) - dt.timedelta(days=200)\n",
    "ed = dt.datetime(2023,4,7) + dt.timedelta(days=1)\n",
    "\n",
    "qqq = ab.StockData('QQQ')\n",
    "qqq.get_data_from_yfinance('QQQ',sd,ed+dt.timedelta(days=1))\n",
    "\n",
    "tqqq = ab.StockData('TQQQ')\n",
    "tqqq.get_data_from_yfinance('TQQQ',sd,ed+dt.timedelta(days=1))\n",
    "\n",
    "ffty = ab.StockData('FFTY')\n",
    "ffty.get_data_from_yfinance('FFTY',sd,ed+dt.timedelta(days=1))\n",
    "\n",
    "naa200r = ab.StockData('NAA200R')\n",
    "naa200r.get_data_from_yfinance('^NAA200R',sd,ed+dt.timedelta(days=1))\n",
    "\n",
    "ticker = qqq\n",
    "#set max number of rows to display\n",
    "pd.set_option('display.max_rows', 1000)"
   ]
  }
 ],
 "metadata": {
  "kernelspec": {
   "display_name": "Python 3",
   "language": "python",
   "name": "python3"
  },
  "language_info": {
   "name": "python",
   "version": "3.8.10"
  },
  "orig_nbformat": 4
 },
 "nbformat": 4,
 "nbformat_minor": 2
}
